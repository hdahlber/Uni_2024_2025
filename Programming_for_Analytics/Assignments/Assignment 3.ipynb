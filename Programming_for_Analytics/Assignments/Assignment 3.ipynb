{
 "cells": [
  {
   "cell_type": "code",
   "execution_count": null,
   "metadata": {},
   "outputs": [],
   "source": [
    "## Please enter the following information\n",
    "\n",
    "## Your Name: Hektor Dahlberg\n",
    "\n",
    "## Your Matriculation Number: 2201899"
   ]
  },
  {
   "cell_type": "code",
   "execution_count": 119,
   "metadata": {},
   "outputs": [],
   "source": [
    "import numpy as np"
   ]
  },
  {
   "cell_type": "code",
   "execution_count": 121,
   "metadata": {},
   "outputs": [],
   "source": [
    "import matplotlib.pyplot as plt"
   ]
  },
  {
   "cell_type": "markdown",
   "metadata": {},
   "source": [
    "## Question 1. <code>moving_average()</code>\n",
    "\n",
    "Moving average is a widely used method in forecasting and time series analysis. To predict a future value, it takes the average of the previous $k$ observations. Please create a function <code>moving_average()</code> that takes two arguments: a list of values, <code>L</code>, and a positive integer indicating the value of $k$. You function should perform the corresponding moving average forecasting, **print** all the forecasted values, and then **print** the total squared error of the forecast.\n",
    "\n",
    "You can use the following steps in your function, and let's use $k = 2$ as an example:\n",
    "* First, the function generates a list of forecasted values, <code>L_f</code>, as follows: \n",
    "  * The first two forecasted values (as $k = 2$ in this example) in <code>L_f</code> are the same as the first two values in the original list <code>L</code>, *i.e.*, <code>L_f[0] = L[0]</code> and <code>L_f[1] = L[1]</code>.\n",
    "  * The following forecasted values in <code>L_f</code> will be the average of the previous two values (as $k = 2$ in this example) from the original list <code>L</code>, *i.e.*, <code>L_f[t] = (L[t-1] + L[t-2])/2</code>.\n",
    "  * For example, if the original list is <code>L = [6,8,4,9,3,7]</code>, the first two values in <code>L_f</code> will be 6 and 8 as in the original list <code>L</code>, then <code>L_f[2] = (6 + 8)/2</code>, <code>L_f[3] = (8 + 4)/2</code> etc.\n",
    "* Next, calculate the forecast error <code>e_i</code> for each index <code>i</code> as <code>e_i = L[i] - L_f[i]</code>.\n",
    "* Lastly, calculate the total squared error as the sum of all the squared forecast errors.\n",
    "* For example, for <code>L = [6,8,4,9,3,7]</code> when $k = 2$:\n",
    "  * The list of forecasted values is <code>L_f = [6, 8, 7.0, 6.0, 6.5, 6.0]</code> \n",
    "  * The total squared error is $31.25$"
   ]
  },
  {
   "cell_type": "code",
   "execution_count": 48,
   "metadata": {},
   "outputs": [],
   "source": [
    "## Your function starts from here:\n",
    "from sklearn.metrics import mean_squared_error\n",
    "\n",
    "def moving_average(L, k):\n",
    "    L_f = L[:k]\n",
    "    \n",
    "    \n",
    "    for i in range(k, len(L)):\n",
    "        forecast_value = sum(L[i-k:i]) / k\n",
    "        L_f.append(forecast_value)\n",
    "\n",
    "    # to get same result as the test case.\n",
    "    L_f_rounded = [round(val, 2) for val in L_f]\n",
    "    print(\"Forecasted values:\", L_f_rounded)\n",
    "    tse = mean_squared_error(L, L_f_rounded) * len(L)\n",
    "    print(\"The total squared error is \", tse)\n"
   ]
  },
  {
   "cell_type": "code",
   "execution_count": 50,
   "metadata": {},
   "outputs": [
    {
     "name": "stdout",
     "output_type": "stream",
     "text": [
      "Forecasted values: [6, 8, 7.0, 6.0, 6.5, 6.0]\n",
      "The total squared error is  31.25\n"
     ]
    }
   ],
   "source": [
    "## Test your function with the following list L and assume k = 2 (NOTE: Please do NOT modify the list):\n",
    "\n",
    "\n",
    "L = [6,8,4,9,3,7]\n",
    "\n",
    "moving_average(L, 2)\n",
    "\n",
    "\n",
    "## The forecasted values and the corresponding total squared error are as follows:\n",
    "##\n",
    "## [6, 8, 7.0, 6.0, 6.5, 6.0]\n",
    "## 31.25"
   ]
  },
  {
   "cell_type": "code",
   "execution_count": 54,
   "metadata": {},
   "outputs": [
    {
     "name": "stdout",
     "output_type": "stream",
     "text": [
      "Forecasted values: [88, 44, 66.0, 52.0, 58.0, 63.0, 80.5, 72.5, 57.0, 54.0, 41.5, 42.0, 46.5, 52.5, 64.5, 75.0, 76.5]\n",
      "The total squared error is  3815.75\n",
      "\n",
      "\n",
      "Forecasted values: [88, 44, 60, 64.0, 53.33, 62.0, 72.33, 71.67, 68.33, 54.0, 47.67, 44.0, 42.67, 51.33, 57.67, 70.33, 73.67]\n",
      "The total squared error is  4197.689\n",
      "\n",
      "\n",
      "Forecasted values: [88, 44, 60, 56, 62.0, 57.5, 69.25, 67.75, 68.75, 63.25, 49.25, 48.0, 44.0, 47.25, 55.5, 63.75, 70.5]\n",
      "The total squared error is  4618.1875\n",
      "\n",
      "\n"
     ]
    }
   ],
   "source": [
    "## Test your function again with the following list of numbers and different values of k (2,3 and 4):\n",
    "\n",
    "\n",
    "L = [88,44,60,56,70,91,54,60,48,35,49,44,61,68,82,71,50]\n",
    "\n",
    "for k in range(2,5):\n",
    "    moving_average(L, k)\n",
    "    print(\"\\n\")\n",
    "\n",
    "    \n",
    "## The forecasted values (rounded to two decimal places) and the corresponding total squared error for each k are as follows:\n",
    "##\n",
    "## [88, 44, 66.0, 52.0, 58.0, 63.0, 80.5, 72.5, 57.0, 54.0, 41.5, 42.0, 46.5, 52.5, 64.5, 75.0, 76.5]\n",
    "## 3815.75\n",
    "##\n",
    "##\n",
    "## [88, 44, 60, 64.0, 53.33, 62.0, 72.33, 71.67, 68.33, 54.0, 47.67, 44.0, 42.67, 51.33, 57.67, 70.33, 73.67]\n",
    "## 4197.689\n",
    "##\n",
    "##\n",
    "## [88, 44, 60, 56, 62.0, 57.5, 69.25, 67.75, 68.75, 63.25, 49.25, 48.0, 44.0, 47.25, 55.5, 63.75, 70.5]\n",
    "## 4618.1875"
   ]
  },
  {
   "cell_type": "markdown",
   "metadata": {},
   "source": [
    "## Question 2.\n",
    "\n",
    "Craps is a popular dice game played in casinos. Please write a program to play a variation of the game. The rules are given as follows:\n",
    "\n",
    "Roll **two** dice. Each die has six faces representing values 1, 2, ..., and 6, respectively. Check the sum of the two dice.\n",
    "\n",
    " - If the sum is 2, 3, or 12 (called *craps*), you lose.\n",
    " - If the sum is 7 or 11 (called *natural*), you win.\n",
    " - If the sum is another value (*i.e.*, 4, 5, 6, 8, 9, or 10), save it as the *point* value. Continue to roll the two dice until either a 7 or the same point value is rolled:\n",
    "   - If 7 is rolled, you lose.\n",
    "   - If the same point value is rolled, you win.\n",
    "     \n",
    "Your program should display the result of each rolling. Here are some sample runs.\n",
    "    \n",
    "Example 1:\n",
    "\n",
    "    You rolled 2 + 1 = 3 You lose\n",
    "    \n",
    "Example 2:\n",
    "\n",
    "    You rolled 3 + 4 = 7 You win\n",
    "    \n",
    "Example 3:\n",
    "\n",
    "    You rolled 5 + 4 = 9 Roll again\n",
    "    You rolled 4 + 4 = 8 Roll again\n",
    "    You rolled 5 + 1 = 6 Roll again\n",
    "    You rolled 4 + 4 = 8 Roll again\n",
    "    You rolled 3 + 4 = 7 You lose\n",
    "    \n",
    "Example 4:\n",
    "\n",
    "    You rolled 2 + 3 = 5 Roll again\n",
    "    You rolled 6 + 3 = 9 Roll again\n",
    "    You rolled 4 + 6 = 10 Roll again\n",
    "    You rolled 1 + 5 = 6 Roll again\n",
    "    You rolled 2 + 6 = 8 Roll again\n",
    "    You rolled 1 + 2 = 3 Roll again\n",
    "    You rolled 2 + 6 = 8 Roll again\n",
    "    You rolled 6 + 5 = 11 Roll again\n",
    "    You rolled 6 + 4 = 10 Roll again\n",
    "    You rolled 5 + 1 = 6 Roll again\n",
    "    You rolled 1 + 1 = 2 Roll again\n",
    "    You rolled 3 + 2 = 5 You win"
   ]
  },
  {
   "cell_type": "code",
   "execution_count": 145,
   "metadata": {},
   "outputs": [
    {
     "name": "stdout",
     "output_type": "stream",
     "text": [
      "Example:  1\n",
      "You rolled 2 + 5 = 7 You Win\n",
      "\n",
      "\n",
      "Example:  2\n",
      "You rolled 6 + 3 = 9 Roll again\n",
      "You rolled 5 + 5 = 10 Roll again\n",
      "You rolled 4 + 4 = 8 Roll again\n",
      "You rolled 2 + 6 = 8 You Win\n",
      "\n",
      "\n",
      "Example:  3\n",
      "You rolled 4 + 4 = 8 Roll again\n",
      "You rolled 1 + 2 = 3 Roll again\n",
      "You rolled 2 + 2 = 4 Roll again\n",
      "You rolled 5 + 4 = 9 Roll again\n",
      "You rolled 3 + 6 = 9 You Win\n",
      "\n",
      "\n",
      "Example:  4\n",
      "You rolled 2 + 4 = 6 Roll again\n",
      "You rolled 6 + 5 = 11 Roll again\n",
      "You rolled 3 + 4 = 7 You lose\n",
      "\n",
      "\n"
     ]
    }
   ],
   "source": [
    "## Your program starts from here:\n",
    "import random\n",
    "def roll_dice():\n",
    "    dice1 = random.randint(1, 6)\n",
    "    dice2 = random.randint(1, 6)\n",
    "    return dice1,dice2, dice1 + dice2\n",
    "def play_craps():\n",
    "    dice1,dice2,sum_dice = roll_dice()\n",
    "    if  sum_dice in {2,3,12}:\n",
    "        print(f\"You rolled {dice1} + {dice2} = {sum_dice} You lose\")\n",
    "        return\n",
    "    elif sum_dice in {7, 11}:\n",
    "        print(f\"You rolled {dice1} + {dice2} = {sum_dice} You Win\")\n",
    "    else:\n",
    "        print(f\"You rolled {dice1} + {dice2} = {sum_dice} Roll again\")\n",
    "        while True:\n",
    "            point = sum_dice\n",
    "            dice1,dice2,sum_dice = roll_dice()\n",
    "            if sum_dice == 7:\n",
    "                print(f\"You rolled {dice1} + {dice2} = {sum_dice} You lose\")\n",
    "                return\n",
    "            elif sum_dice == point:\n",
    "                print(f\"You rolled {dice1} + {dice2} = {sum_dice} You Win\")\n",
    "                return\n",
    "            else:\n",
    "                print(f\"You rolled {dice1} + {dice2} = {sum_dice} Roll again\")\n",
    "                \n",
    "\n",
    "for x in range(1,5):\n",
    "    print(\"Example: \",x)\n",
    "    play_craps()\n",
    "    print(\"\\n\")\n",
    "\n",
    "        \n",
    "\n"
   ]
  },
  {
   "attachments": {
    "eurojackpot-2.svg": {
     "image/svg+xml": [
      "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"
     ]
    }
   },
   "cell_type": "markdown",
   "metadata": {},
   "source": [
    "## Question 3. <code>euro_jackpot()</code>\n",
    "\n",
    "EuroJackpot prizes are amongst the largest in Europe, second only to EuroMillions in terms of the total money paid out. In EuroJackpot, you simply select **five** regular numbers from 1 to 50 and then the **two** additional Euro numbers from 1 to 12. You are trying to predict as many numbers as possible and will win the jackpot if you get all seven correctly.\n",
    "\n",
    "![eurojackpot-2.svg](attachment:eurojackpot-2.svg)\n",
    "\n",
    "For more information about EuroJackpot, please click [here](https://www.eurojackpot.org/en/bet-on-eurojackpot/). \n",
    "\n",
    "Please write a function <code>euro_jackpot()</code>, which generates a random selection of **seven** numbers for a EuroJackpot ticket. Among the seven numbers to be generated:\n",
    " - The first five numbers (*i.e.*, regular numbers) are randomly selected from 1 to 50 (both inclusive), and do not contain any duplicates.\n",
    " - The other two numbers (*i.e.*, Euro numbers) are randomly selected from 1 to 12 (both inclusive), and do not contain any duplicates.\n",
    "\n",
    "**Note**: The two Euro numbers are drawn from a separate ball machine, so it is possible to have the same number as both a regular number and a Euro number. Your function should first **print** the five regular numbers in ascending order, and then the two Euro numbers in ascending order."
   ]
  },
  {
   "cell_type": "code",
   "execution_count": 110,
   "metadata": {},
   "outputs": [],
   "source": [
    "## Your function starts from here:\n",
    "def euro_jackpot():\n",
    "    first = sorted(random.sample(range(1,51),5))\n",
    "    last = sorted(random.sample(range(1,13),2))\n",
    "    print(f\"regular numbers {first}  Euro numbers {last}\")\n",
    "\n"
   ]
  },
  {
   "cell_type": "code",
   "execution_count": 112,
   "metadata": {
    "scrolled": true
   },
   "outputs": [
    {
     "name": "stdout",
     "output_type": "stream",
     "text": [
      "regular numbers [22, 35, 37, 44, 49]  Euro numbers [8, 12]\n",
      "regular numbers [6, 12, 26, 32, 38]  Euro numbers [6, 7]\n",
      "regular numbers [6, 25, 39, 42, 47]  Euro numbers [1, 2]\n",
      "regular numbers [11, 15, 17, 30, 35]  Euro numbers [6, 11]\n",
      "regular numbers [8, 9, 39, 43, 47]  Euro numbers [3, 12]\n"
     ]
    }
   ],
   "source": [
    "## Test your function for a few times. Note that it should generate different numbers in each call.\n",
    "\n",
    "for i in range(5):\n",
    "    euro_jackpot()"
   ]
  },
  {
   "attachments": {
    "TimeSeries100DailyClosingPrices.png": {
     "image/png": "[encoded data removed]"
    }
   },
   "cell_type": "markdown",
   "metadata": {},
   "source": [
    "## Question 4.\n",
    "\n",
    "The closing prices for 100 consecutive trading days for a particular stock are given as follows:\n",
    "\n",
    "    price = [77.0782, 70.7692, 73.3505, 68.6033, 68.6321, 65.5834, \n",
    "             63.9137, 63.9224, 59.1316, 57.3080, 56.8161, 54.2992, \n",
    "             55.9759, 53.9217, 48.6715, 45.7877, 46.2155, 41.9000, \n",
    "             38.4206, 39.5007, 37.2547, 35.7330, 33.5357, 28.1770, \n",
    "             32.4655, 35.2633, 35.8763, 36.7587, 35.1836, 37.2151, \n",
    "             35.0473, 37.6049, 41.5026, 44.3063, 45.1209, 49.9941, \n",
    "             47.5366, 44.1048, 48.4192, 50.6432, 50.9571, 52.6670, \n",
    "             53.7452, 55.3259, 56.0779, 54.5044, 57.6703, 62.1648, \n",
    "             61.9237, 60.0800, 60.9850, 66.1175, 68.5949, 72.3522, \n",
    "             72.4252, 72.2571, 72.3188, 73.2215, 77.7766, 74.5345, \n",
    "             76.2885, 71.1488, 69.7948, 73.3775, 71.2516, 69.5023, \n",
    "             71.8772, 67.6134, 68.0548, 65.8179, 65.3941, 65.5281, \n",
    "             67.0112, 65.6294, 64.7371, 63.6171, 63.2455, 60.4415, \n",
    "             61.9082, 63.3986, 58.5286, 63.2828, 62.6528, 61.3553, \n",
    "             57.9832, 56.0021, 57.5180, 57.9495, 57.3952, 54.5280, \n",
    "             56.8438, 51.3766, 53.6321, 55.2540, 49.0425, 52.8425, \n",
    "             50.0387, 49.4618, 51.5674, 52.3541] \n",
    "             \n",
    "Please note that the minimum and maximum closing prices were observed on the 24th day and the 59th day, respectively.\n",
    "\n",
    "Please create a time-series plot for these daily closing prices. Please also highlight the minimum and maximum closing prices with a green circle and a red circle, respectively. The plot should look like this:\n",
    "\n",
    "![TimeSeries100DailyClosingPrices.png](attachment:TimeSeries100DailyClosingPrices.png)"
   ]
  },
  {
   "cell_type": "code",
   "execution_count": 143,
   "metadata": {},
   "outputs": [
    {
     "data": {
      "image/png": "[encoded data removed]",
      "text/plain": [
       "<Figure size 640x480 with 1 Axes>"
      ]
     },
     "metadata": {},
     "output_type": "display_data"
    }
   ],
   "source": [
    "## Your program starts from here:\n",
    "price = [77.0782, 70.7692, 73.3505, 68.6033, 68.6321, 65.5834, \n",
    "             63.9137, 63.9224, 59.1316, 57.3080, 56.8161, 54.2992, \n",
    "             55.9759, 53.9217, 48.6715, 45.7877, 46.2155, 41.9000, \n",
    "             38.4206, 39.5007, 37.2547, 35.7330, 33.5357, 28.1770, \n",
    "             32.4655, 35.2633, 35.8763, 36.7587, 35.1836, 37.2151, \n",
    "             35.0473, 37.6049, 41.5026, 44.3063, 45.1209, 49.9941, \n",
    "             47.5366, 44.1048, 48.4192, 50.6432, 50.9571, 52.6670, \n",
    "             53.7452, 55.3259, 56.0779, 54.5044, 57.6703, 62.1648, \n",
    "             61.9237, 60.0800, 60.9850, 66.1175, 68.5949, 72.3522, \n",
    "             72.4252, 72.2571, 72.3188, 73.2215, 77.7766, 74.5345, \n",
    "             76.2885, 71.1488, 69.7948, 73.3775, 71.2516, 69.5023, \n",
    "             71.8772, 67.6134, 68.0548, 65.8179, 65.3941, 65.5281, \n",
    "             67.0112, 65.6294, 64.7371, 63.6171, 63.2455, 60.4415, \n",
    "             61.9082, 63.3986, 58.5286, 63.2828, 62.6528, 61.3553, \n",
    "             57.9832, 56.0021, 57.5180, 57.9495, 57.3952, 54.5280, \n",
    "             56.8438, 51.3766, 53.6321, 55.2540, 49.0425, 52.8425, \n",
    "             50.0387, 49.4618, 51.5674, 52.3541] \n",
    "\n",
    "min_index = price.index(min(price))\n",
    "max_index = price.index(max(price))\n",
    "plt.plot(price)\n",
    "plt.plot(min_index, price[min_index], color= \"green\",marker=\"o\")\n",
    "plt.plot(max_index, price[max_index], color= \"red\",marker=\"o\")\n",
    "plt.title(\"Daily Closing Prices\")\n",
    "plt.xlabel(\"Time\")\n",
    "plt.ylabel(\"Price\")\n",
    "plt.show()\n",
    "\n",
    "\n"
   ]
  },
  {
   "cell_type": "code",
   "execution_count": null,
   "metadata": {},
   "outputs": [],
   "source": []
  }
 ],
 "metadata": {
  "kernelspec": {
   "display_name": "Python 3 (ipykernel)",
   "language": "python",
   "name": "python3"
  },
  "language_info": {
   "codemirror_mode": {
    "name": "ipython",
    "version": 3
   },
   "file_extension": ".py",
   "mimetype": "text/x-python",
   "name": "python",
   "nbconvert_exporter": "python",
   "pygments_lexer": "ipython3",
   "version": "3.12.7"
  }
 },
 "nbformat": 4,
 "nbformat_minor": 4
}
