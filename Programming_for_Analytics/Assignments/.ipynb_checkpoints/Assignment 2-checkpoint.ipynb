{
 "cells": [
  {
   "cell_type": "code",
   "execution_count": null,
   "metadata": {},
   "outputs": [],
   "source": [
    "## Please enter the following information\n",
    "##\n",
    "## - Your Name: Hektor Dahlberg\n",
    "##\n",
    "## - Your Matriculation Number: 2201899"
   ]
  },
  {
   "cell_type": "markdown",
   "metadata": {},
   "source": [
    "### Question 1. <code>leap_year()</code>\n",
    "\n",
    "Most years have 365 days. However, the time required for the Earth to orbit the Sun is actually slightly more than that. As a result, an extra day, February 29, is included in some years to correct for this difference. Such years are referred to as leap years.\n",
    "\n",
    "The rules for determining whether or not a year is a leap year is as follows:\n",
    " - Any year that is divisible by 400 is a leap year.\n",
    " - Of the remaining years, any year that is divisible by 100 is not a leap year.\n",
    " - Of the remaining years, any year that is divisible by 4 is a leap year.\n",
    " - All other years are not leap years.\n",
    " \n",
    "Please write a function, <code>leap_year()</code>, which takes one argument: the year as a four digit integer. Your function should **return** <code>True</code> if the input year is a leap year, and <code>False</code> otherwise."
   ]
  },
  {
   "cell_type": "code",
   "execution_count": 39,
   "metadata": {},
   "outputs": [],
   "source": [
    "## Your function starts from here:\n",
    "\n",
    "def leap_year(x):\n",
    "    y = x % 400\n",
    "    if y == 0 or (y % 100 != 0 and y % 4 == 0):\n",
    "        return True\n",
    "    else:\n",
    "        return False\n"
   ]
  },
  {
   "cell_type": "code",
   "execution_count": 41,
   "metadata": {},
   "outputs": [
    {
     "name": "stdout",
     "output_type": "stream",
     "text": [
      "[False, False, False, False, False, False, False, False, False, False, False]\n",
      "[True, True, True, True, True, True]\n"
     ]
    }
   ],
   "source": [
    "## Test your function with the following commands (NOTE: Please do NOT modify the lists or commands given below)\n",
    "\n",
    "\n",
    "not_leap_year_list = [1700, 1800, 1900, 2100, 2200, 2300, 2500, 2600, 2700, 2900, 3000]\n",
    "\n",
    "print(list(map(leap_year, not_leap_year_list)))\n",
    "\n",
    "leap_year_list = [1600, 2000, 2400, 2800, 1992, 2008]\n",
    "    \n",
    "print(list(map(leap_year, leap_year_list)))\n",
    "    \n",
    "\n",
    "## The output returned by the commands in this code cell should look like the following:\n",
    "##\n",
    "## [False, False, False, False, False, False, False, False, False, False, False]\n",
    "## [True, True, True, True, True, True]"
   ]
  },
  {
   "cell_type": "markdown",
   "metadata": {},
   "source": [
    "### Question 2. <code>days_in_a_month()</code>\n",
    "\n",
    "Please write a function <code>days_in_a_month()</code> that determines how many days there are in a particular month of a particular year. Your function will take two parameters: The month as an integer between 1 and 12, and the year as a four digit integer. You function should **return** the corresponding number of days to the given month and year. \n",
    "\n",
    "**Hint**: Please ensure that your function returns the correct number of days in February for leap years. You may find your solution to Question 1 helpful when solving this problem."
   ]
  },
  {
   "cell_type": "code",
   "execution_count": 70,
   "metadata": {},
   "outputs": [],
   "source": [
    "## Your function starts from here\n",
    "days_31 = [1,3,5,7,8,10,12]\n",
    "def days_in_a_month(x,y):\n",
    "    if x in days_31:\n",
    "        return 31\n",
    "    elif x!=2:\n",
    "        return 30\n",
    "    elif leap_year(y) is True:\n",
    "        return 29\n",
    "    else:\n",
    "        return 28\n",
    "        \n",
    "    \n",
    "    \n"
   ]
  },
  {
   "cell_type": "code",
   "execution_count": 72,
   "metadata": {},
   "outputs": [
    {
     "name": "stdout",
     "output_type": "stream",
     "text": [
      "[31, 28, 31, 30, 31, 30, 31, 31, 30, 31, 30, 31]\n",
      "[31, 29, 31, 30, 31, 30, 31, 31, 30, 31, 30, 31]\n"
     ]
    }
   ],
   "source": [
    "## Test your function with the following commands (NOTE: Please do NOT modify the commands given below):\n",
    "\n",
    "\n",
    "print(list(map(days_in_a_month, range(1,13), [2200] * 12)))\n",
    "    \n",
    "print(list(map(days_in_a_month, range(1,13), [2008] * 12)))\n",
    "\n",
    "\n",
    "## The output returned by the commands in this code cell should look like the following:\n",
    "##\n",
    "## [31, 28, 31, 30, 31, 30, 31, 31, 30, 31, 30, 31]\n",
    "## [31, 29, 31, 30, 31, 30, 31, 31, 30, 31, 30, 31]"
   ]
  },
  {
   "cell_type": "markdown",
   "metadata": {},
   "source": [
    "### Question 3. <code>find_the_season()</code>\n",
    "\n",
    "A year is usually divided into four seasons: Spring, Summer, Fall and Winter. Although the exact dates at which the season changes vary slightly from year to year because of the way the calendar is constructed, we can use the following **starting dates** for simplicity:\n",
    "\n",
    "- Spring: March 20\n",
    "- Summer: June 21\n",
    "- Autumn: September 22\n",
    "- Winter: December 21\n",
    "\n",
    "Please write a function, <code>find_the_season()</code>, which takes two arguments:\n",
    "\n",
    "- the name of the month (as a string)\n",
    "- the day within the month (as an integer)\n",
    "\n",
    "Your function should determine and then **return** the name of the season that corresponds to the given input date.\n",
    "\n",
    "**Please note the following**:\n",
    "\n",
    "- Ensure that your function correctly identifies the season regardless of the case format of the month input. That is, your function should be designed to handle month names in both capital and lower-case letters (e.g., \"March\", \"march\", \"MARCH\", etc.).\n",
    "- Your function must return the name of the season with the first letter capitalized (e.g., \"Spring\", \"Summer\", \"Autumn\", or \"Winter\").\n",
    "- For the purpose of this exam question, you are not required to validate the input date for its actual existence or correctness. In other words, you do not need to check if the date is within the valid range for the given month. "
   ]
  },
  {
   "cell_type": "code",
   "execution_count": 89,
   "metadata": {},
   "outputs": [],
   "source": [
    "## Your function starts from here:\n",
    "def find_the_season(m,d):\n",
    "    m = m.lower()\n",
    "    if (m in [\"january\",\"february\"]) or (m == \"december\" and d>=21) or (m == \"march\" and d<20):\n",
    "        return \"Winter\"\n",
    "    elif (m in [\"april\",\"may\"]) or (m == \"march\" and d>=20) or (m == \"june\" and d<21):\n",
    "        return \"Spring\"\n",
    "    elif (m in [\"august\",\"july\"]) or (m == \"june\" and d>=21) or (m == \"september\" and d<22):\n",
    "        return \"Summer\"\n",
    "    else:\n",
    "        return \"Autumn\"\n",
    "\n"
   ]
  },
  {
   "cell_type": "code",
   "execution_count": 91,
   "metadata": {},
   "outputs": [
    {
     "name": "stdout",
     "output_type": "stream",
     "text": [
      "All tests passed!\n"
     ]
    }
   ],
   "source": [
    "## Test your function with the following commands (NOTE: Please do NOT modify the commands given below):\n",
    "\n",
    "test_cases = [\n",
    "    ## Edge cases for each season transition\n",
    "    (\"March\", 19, \"Winter\"),\n",
    "    (\"March\", 20, \"Spring\"),\n",
    "    (\"March\", 21, \"Spring\"),\n",
    "    (\"June\", 20, \"Spring\"),\n",
    "    (\"June\", 21, \"Summer\"),\n",
    "    (\"June\", 22, \"Summer\"),\n",
    "    (\"September\", 21, \"Summer\"),\n",
    "    (\"September\", 22, \"Autumn\"),\n",
    "    (\"September\", 23, \"Autumn\"),\n",
    "    (\"December\", 20, \"Autumn\"),\n",
    "    (\"December\", 21, \"Winter\"),\n",
    "    (\"December\", 22, \"Winter\"),\n",
    "\n",
    "    ## Checking various dates within each season\n",
    "    (\"January\", 15, \"Winter\"),\n",
    "    (\"February\", 28, \"Winter\"),\n",
    "    (\"April\", 10, \"Spring\"),\n",
    "    (\"May\", 25, \"Spring\"),\n",
    "    (\"July\", 4, \"Summer\"),\n",
    "    (\"August\", 17, \"Summer\"),\n",
    "    (\"October\", 31, \"Autumn\"),\n",
    "    (\"November\", 26, \"Autumn\"),\n",
    "\n",
    "    ## Cases with leap year day and end of month\n",
    "    (\"February\", 29, \"Winter\"),\n",
    "    (\"April\", 30, \"Spring\"),\n",
    "    (\"June\", 30, \"Summer\"),\n",
    "    (\"September\", 30, \"Autumn\"),\n",
    "\n",
    "    ## Testing case insensitivity\n",
    "    (\"march\", 20, \"Spring\"),\n",
    "    (\"JUNE\", 20, \"Spring\"),\n",
    "    (\"SePtEmBeR\", 22, \"Autumn\"),\n",
    "    (\"DECEMBER\", 21, \"Winter\"),\n",
    "    (\"january\", 1, \"Winter\"),\n",
    "    (\"AuGuSt\", 15, \"Summer\"),\n",
    "    (\"oCtoBer\", 31, \"Autumn\"),\n",
    "    (\"MaY\", 15, \"Spring\"),\n",
    "\n",
    "    ## Additional random dates\n",
    "    (\"July\", 11, \"Summer\"),\n",
    "    (\"August\", 23, \"Summer\"),\n",
    "    (\"November\", 5, \"Autumn\"),\n",
    "    (\"January\", 30, \"Winter\"),\n",
    "    (\"May\", 8, \"Spring\"),\n",
    "    (\"October\", 14, \"Autumn\"),\n",
    "    (\"December\", 9, \"Autumn\"),\n",
    "    (\"February\", 3, \"Winter\"),\n",
    "    (\"April\", 27, \"Spring\"),\n",
    "    (\"June\", 5, \"Spring\"),\n",
    "    (\"September\", 19, \"Summer\"),\n",
    "    (\"March\", 31, \"Spring\"),\n",
    "]\n",
    "\n",
    "\n",
    "def test_find_the_season():\n",
    "    for month, day, expected_season in test_cases:\n",
    "        assert find_the_season(month, day) == expected_season, f\"Failed test for {month} {day}\"\n",
    "    print(\"All tests passed!\")\n",
    "\n",
    "test_find_the_season()"
   ]
  },
  {
   "cell_type": "markdown",
   "metadata": {},
   "source": [
    "### Question 4. <code>morse_to_text()</code>\n",
    "\n",
    "Please use the given dictionary <code>morse_to_latin_dict</code> to write a function <code>morse_to_text()</code>, which can interpret a Morse code to text. That is, your function will take a string of Morse code as its argument, and **return** the corresponding text as a string.\n",
    "\n",
    "For example, the corresponding text to the Morse code <code>'.... ..    - .... . .-. . -.-.--'</code> is <code>'Hi there!'</code>\n",
    "\n",
    "Note that Morse characters of the same word are separated by *one* space, and Morse words are separated by *four* spaces.\n",
    "\n",
    "**Hint**: The <code>.split()</code> method might help."
   ]
  },
  {
   "cell_type": "code",
   "execution_count": 94,
   "metadata": {},
   "outputs": [],
   "source": [
    "## The following dictionary maps each Morse character to one Latin character.\n",
    "\n",
    "## Please run this code cell without modifying anything in it.\n",
    "\n",
    "\n",
    "morse_to_latin_dict = {'.-': 'A', '-...': 'B', '-.-.': 'C', '-..': 'D', \\\n",
    "                       '.': 'E', '..-.': 'F', '--.': 'G', '....': 'H', \\\n",
    "                       '..': 'I', '.---': 'J', '-.-': 'K', '.-..': 'L', \\\n",
    "                       '--': 'M', '-.': 'N', '---': 'O', '.--.': 'P', \\\n",
    "                       '--.-': 'Q', '.-.': 'R', '...': 'S', '-': 'T', \\\n",
    "                       '..-': 'U', '...-': 'V', '.--': 'W', '-..-': 'X', \\\n",
    "                       '-.--': 'Y', '--..': 'Z', '.----': '1', '..---': '2', \\\n",
    "                       '...--': '3', '....-': '4', '.....': '5', '-....': '6', \\\n",
    "                       '--...': '7', '---..': '8', '----.': '9', '-----': '0', \\\n",
    "                       '--..--': ',', '.-.-.-': '.', '..--..': '?', '-.-.-': ';', \\\n",
    "                       '---...': ':', '-..-.': '/', '-....-': '-', '.----.': \"'\", \\\n",
    "                       '-.--.-': '(', '..--.-': '_', '-.-.--': '!'}\n",
    "\n",
    "\n",
    "## Note: The Morse character '-.--.-' represents '(', ')', '[', ']', '{' or '}'."
   ]
  },
  {
   "cell_type": "code",
   "execution_count": 139,
   "metadata": {},
   "outputs": [],
   "source": [
    "## Your function starts from here:\n",
    "def morse_to_text(morse):\n",
    "    text_from_morse=\"\"\n",
    "    for x in morse.split(\" \"):\n",
    "        try:\n",
    "            text_from_morse += morse_to_latin_dict[x]\n",
    "        except:\n",
    "            if text_from_morse.endswith(\" \") != True:\n",
    "                text_from_morse += \" \"\n",
    "    return str(text_from_morse)\n",
    "\n"
   ]
  },
  {
   "cell_type": "code",
   "execution_count": 141,
   "metadata": {},
   "outputs": [
    {
     "name": "stdout",
     "output_type": "stream",
     "text": [
      "PROGRAMMING FOR ANALYTICS\n",
      "HI THERE!\n",
      "A SERIES OF DOTS AND DASHES IS MORSE CODE.\n"
     ]
    }
   ],
   "source": [
    "## Test your function with the following Morse codes (NOTE: Please do NOT modify the Morse codes):\n",
    "\n",
    "\n",
    "print(morse_to_text('.--. .-. --- --. .-. .- -- -- .. -. --.    ..-. --- .-.    .- -. .- .-.. -.-- - .. -.-. ...'))\n",
    "\n",
    "print(morse_to_text('.... ..    - .... . .-. . -.-.--'))\n",
    "\n",
    "print(morse_to_text('.-    ... . .-. .. . ...    --- ..-.    -.. --- - ...    .- -. -..    -.. .- ... .... . ...    .. ...    -- --- .-. ... .    -.-. --- -.. . .-.-.-'))\n",
    "\n",
    "\n",
    "## The texts corresponding to the given Morse codes are as follows:\n",
    "##\n",
    "## PROGRAMMING FOR ANALYTICS \n",
    "## HI THERE! \n",
    "## A SERIES OF DOTS AND DASHES IS MORSE CODE."
   ]
  },
  {
   "cell_type": "markdown",
   "metadata": {},
   "source": [
    "### Question 5. <code>babylonian()</code>\n",
    "\n",
    "There are several techniques for calculating the square roots. One such technique is known as the Babylonian function. It approximates the square root of a positive number, <code>n</code>, by repeatedly performing a calculation using the following formula:\n",
    "\n",
    "    next_guess = (last_guess + (n / last_guess)) / 2\n",
    "\n",
    "When next_guess and last_guess are almost identical, next_guess is the approximated square root. The initial guess can be any positive value (e.g., 1). This value will be the starting value for last_guess. If the absolute difference between next_guess and last_guess is less than a very small number, such as 0.0001, you can claim that next_guess is the approximated square root of <code>n</code>. If not, next_guess becomes last_guess and the approximation process continues.\n",
    "\n",
    "Please write a function <code>babylonian()</code> that implements the aforementioned technique. Your function will take one positive number <code>n</code> as the argument and **return** its square root."
   ]
  },
  {
   "cell_type": "code",
   "execution_count": 173,
   "metadata": {},
   "outputs": [],
   "source": [
    "## Your function starts from here:\n",
    "def babylonian(n):\n",
    "    last_guess = 1\n",
    "    very_small_number = 0.0001\n",
    "\n",
    "    while True:\n",
    "        next_guess = (last_guess + (n / last_guess)) / 2\n",
    "        if abs(next_guess - last_guess) < very_small_number:\n",
    "            return next_guess\n",
    "        last_guess = next_guess\n",
    "\n"
   ]
  },
  {
   "cell_type": "code",
   "execution_count": 175,
   "metadata": {
    "scrolled": true
   },
   "outputs": [
    {
     "name": "stdout",
     "output_type": "stream",
     "text": [
      "1.4142135623746899\n",
      "1.7320508100147274\n",
      "2.000000000000002\n",
      "2.236067977499978\n",
      "2.4494897427875517\n",
      "2.6457513111113693\n",
      "2.8284271250498643\n",
      "3.000000001396984\n",
      "3.162277660168379\n",
      "3.3166247903554\n",
      "3.464101615137755\n",
      "3.6055512754639905\n",
      "3.7416573867739458\n",
      "3.872983346207433\n",
      "4.000000000000051\n",
      "4.123105625617805\n",
      "4.2426406871196605\n",
      "4.358898943541577\n",
      "4.47213595500161\n"
     ]
    }
   ],
   "source": [
    "## Test your function with the following commands (NOTE: Please do NOT modify the commands given below)\n",
    "\n",
    "\n",
    "for n in range(2, 21):\n",
    "    print(babylonian(n))\n",
    "    \n",
    "\n",
    "## The output returned by the commands in this code cell should look like the following:\n",
    "##\n",
    "## 1.4142135623746899\n",
    "## 1.7320508100147274\n",
    "## 2.000000000000002\n",
    "## 2.236067977499978\n",
    "## 2.4494897427875517\n",
    "## 2.6457513111113693\n",
    "## 2.8284271250498643\n",
    "## 3.000000001396984\n",
    "## 3.162277660168379\n",
    "## 3.3166247903554\n",
    "## 3.464101615137755\n",
    "## 3.6055512754639905\n",
    "## 3.7416573867739458\n",
    "## 3.872983346207433\n",
    "## 4.000000000000051\n",
    "## 4.123105625617805\n",
    "## 4.2426406871196605\n",
    "## 4.358898943541577\n",
    "## 4.47213595500161"
   ]
  },
  {
   "cell_type": "code",
   "execution_count": null,
   "metadata": {},
   "outputs": [],
   "source": []
  },
  {
   "cell_type": "code",
   "execution_count": null,
   "metadata": {},
   "outputs": [],
   "source": []
  }
 ],
 "metadata": {
  "kernelspec": {
   "display_name": "Python 3 (ipykernel)",
   "language": "python",
   "name": "python3"
  },
  "language_info": {
   "codemirror_mode": {
    "name": "ipython",
    "version": 3
   },
   "file_extension": ".py",
   "mimetype": "text/x-python",
   "name": "python",
   "nbconvert_exporter": "python",
   "pygments_lexer": "ipython3",
   "version": "3.12.7"
  }
 },
 "nbformat": 4,
 "nbformat_minor": 4
}
