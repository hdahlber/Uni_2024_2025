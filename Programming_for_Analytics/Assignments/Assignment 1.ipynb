{
 "cells": [
  {
   "cell_type": "code",
   "execution_count": 1,
   "metadata": {},
   "outputs": [],
   "source": [
    "## Please enter the following information\n",
    "##\n",
    "## - Your Name: Hektor Dahlberg\n",
    "##\n",
    "## - Your Matriculation Number: 2201899"
   ]
  },
  {
   "cell_type": "markdown",
   "metadata": {},
   "source": [
    "### Question 1.\n",
    "\n",
    "Please develop a program that starts by taking an integer representing seconds (e.g. 100 means 100 seconds) from the user. Then your program should display the equivalent amount of time in the format of D:H:M:S, where D, H, M, and S represent days, hours, minutes and seconds, respectively.\n",
    "\n",
    "For example, <code>1000000</code> seconds is equivalent to <code>11:13:46:40</code>.\n",
    "\n",
    "**Hint**: There are 24 * 60 * 60 seconds in a day. You can first calculate how many full days there are and keep the remaining seconds for further processing."
   ]
  },
  {
   "cell_type": "code",
   "execution_count": 3,
   "metadata": {},
   "outputs": [
    {
     "name": "stdin",
     "output_type": "stream",
     "text": [
      "time in seconds: 1000001\n"
     ]
    },
    {
     "name": "stdout",
     "output_type": "stream",
     "text": [
      "11:13:46:41\n"
     ]
    }
   ],
   "source": [
    "seconds = int(input(\"time in seconds:\"))\n",
    "D = int(seconds/(24*60*60))\n",
    "H = int((seconds % (24*60*60))/(60*60))\n",
    "M = int(((seconds % (24*60*60))% (60*60))/60)\n",
    "S = int(((seconds % (24*60*60))% (60*60))%60)\n",
    "\n",
    "print(f\"{D:02}:{H:02}:{M:02}:{S:02}\")\n"
   ]
  },
  {
   "cell_type": "markdown",
   "metadata": {},
   "source": [
    "### Question 2.\n",
    "\n",
    "A zoo determines the price of admission based on the age of the guest:\n",
    " - Guests of 2 years old or less are admitted without charge.\n",
    " - Children between 3 and 12 years of age (both inclusive) cost 14.00 euro per person.\n",
    " - Seniors aged 65 years or over cost 18.00 euro perperson.\n",
    " - Admission charge for all other guests is 23.00 euro per person.\n",
    "\n",
    "You will be given a list of the ages of a group visiting the zoo. Please create a program that displays the total admission cost for the group.\n",
    "\n",
    "Note: Your program must be able to calculate the total admission cost for *any* list of ages assigned to <code>age_list</code>, not just for [3, 33, 42, 70, 65, 1, 10] which is given for testing."
   ]
  },
  {
   "cell_type": "code",
   "execution_count": 5,
   "metadata": {},
   "outputs": [
    {
     "name": "stdout",
     "output_type": "stream",
     "text": [
      "Total sum: 110\n"
     ]
    }
   ],
   "source": [
    "## Use the given list of ages to test your program. The total admission cost for this group shoud be 110 euros.\n",
    "\n",
    "age_list = [3, 33, 42, 70, 65, 1, 10]   \n",
    "\n",
    "## Your progarm starts from here:\n",
    "sum = 0\n",
    "for x in age_list:      \n",
    "    if x in range(3,13):\n",
    "        sum += 14\n",
    "    elif x >= 65:\n",
    "        sum += 18\n",
    "    elif x > 2:\n",
    "        sum +=23\n",
    "    \n",
    "print(f\"Total sum: {sum}\")\n",
    "\n"
   ]
  },
  {
   "cell_type": "markdown",
   "metadata": {},
   "source": [
    "### Question 3.\n",
    "\n",
    "In the game of Scrabble, each letter has points associated with it. The total score of a word is the sum of the scores of its letters. More common letters are worth fewer points while less common letters are worth more points. The points associated with each letter are given below as a dictionary. \n",
    "\n",
    "Please write a program that takes a word from the user, then computes and displays the Scrabble score for this word.\n",
    "\n",
    "Note: A Scrabble board includes some squares that multiply the value of a letter or the value of an entire word. For simplicity, we will ignore these squares in this exercise."
   ]
  },
  {
   "cell_type": "code",
   "execution_count": 7,
   "metadata": {},
   "outputs": [
    {
     "name": "stdin",
     "output_type": "stream",
     "text": [
      "input word: abcdef12345678??\n"
     ]
    },
    {
     "name": "stdout",
     "output_type": "stream",
     "text": [
      "sum for the word ABCDEF12345678?? is 14\n"
     ]
    }
   ],
   "source": [
    "## The dictionary below maps from letters to point values. You can use the dictionary to compute the score.\n",
    "\n",
    "letter_to_point = {\"A\":1, \"B\":3, \"C\":3, \"D\":2, \"E\":1, \"F\":4, \\\n",
    "                   \"G\":2, \"H\":4, \"I\":1, \"J\":2, \"K\":5, \"L\":1, \\\n",
    "                   \"M\":3, \"N\":1, \"O\":1, \"P\":3, \"Q\":10,\"R\":1, \\\n",
    "                   \"S\":1, \"T\":1, \"U\":1, \"V\":4, \"W\":4, \"X\":8, \\\n",
    "                   \"Y\":4, \"Z\":10}\n",
    "\n",
    "## Your program starts from here:\n",
    "result = 0\n",
    "word = str(input(\"input word:\")).upper()\n",
    "for c in word:\n",
    "    if c in letter_to_point:\n",
    "        result += letter_to_point[c]\n",
    "print(f\"sum for the word {word} is {result}\")\n",
    "\n"
   ]
  },
  {
   "cell_type": "markdown",
   "metadata": {},
   "source": [
    "### Question 4.\n",
    "\n",
    "Suppose you save €100 *each month* into a savings account with the annual interest rate of 5%. So, the monthly interest rate is 0.05/12 = 0.00417. After the first month, the value in the account becomes\n",
    " \n",
    " > 100 * (1 + 0.00417) = 100.417\n",
    "\n",
    "After the second month, the value in the account becomes\n",
    "\n",
    " > (100 + 100.417) * (1 + 0.00417) = 201.252\n",
    " \n",
    "After the third month, the value in the account becomes\n",
    "\n",
    " > (100 + 201.252) * (1 + 0.00417) = 302.507\n",
    " \n",
    "and so on.\n",
    "\n",
    "Please write a program that asks the user to enter an amount that will be deposited into the savings account each month, the annual interest rate (as a decimal, such as 0.05), and the number of months, and then displays the amount in the savings account after the given month. "
   ]
  },
  {
   "cell_type": "code",
   "execution_count": 17,
   "metadata": {},
   "outputs": [
    {
     "name": "stdin",
     "output_type": "stream",
     "text": [
      "input each month amount: 3\n",
      "input annual interest rate: 0.05\n",
      "input number of months: 3\n"
     ]
    },
    {
     "name": "stdout",
     "output_type": "stream",
     "text": [
      "after 3 your account has a an amount of 9.075\n"
     ]
    }
   ],
   "source": [
    "\n",
    "deposite = float(input(\"input each month amount:\"))\n",
    "rate = float(input(\"input annual interest rate:\"))/12\n",
    "months = int(input(\"input number of months:\"))\n",
    "\n",
    "\n",
    "result = 0\n",
    "for x in range(months):\n",
    "    result = (deposite + result)*(1+rate)\n",
    "print(f\"after {months} your account has a an amount of {result:.3f}\")"
   ]
  },
  {
   "cell_type": "markdown",
   "metadata": {},
   "source": [
    "### Question 5.\n",
    "\n",
    "An Armstrong number (also known as a narcissistic number) is a positive integer that is equal to the sum of its own digits each raised to the power of the number of digits in the integer. For example, a 3-digit integer like 153 is an Armstrong number because it is equal to the sum of its own digits each raised to the power of 3:\n",
    "$$ 1^3+5^3+3^3=153 $$\n",
    "\n",
    "In general, for an n-digit number \n",
    "$abcd...n$, the number is an Armstrong number if:\n",
    "$$ a^n+b^n+c^n+d^n+ ... +n^n=abcd...n $$\n",
    "\n",
    "Please write a program to find all the Armstrong numbers that are between 0 and 9999 (both inclusive)."
   ]
  },
  {
   "cell_type": "code",
   "execution_count": 19,
   "metadata": {},
   "outputs": [
    {
     "name": "stdout",
     "output_type": "stream",
     "text": [
      "[0, 1, 2, 3, 4, 5, 6, 7, 8, 9, 153, 370, 371, 407]\n"
     ]
    }
   ],
   "source": [
    "def armstrong_number(x):\n",
    "    result = 0\n",
    "    string = str(x)\n",
    "    power = len(string)\n",
    "    for c in string:\n",
    "        result += int(c)**power\n",
    "    if x == result:\n",
    "        return True\n",
    "    else:\n",
    "        return False\n",
    "armstrong =[]\n",
    "for x in range(0,1000):\n",
    "    if armstrong_number(x):\n",
    "       armstrong.append(x) \n",
    "print(armstrong)    "
   ]
  },
  {
   "cell_type": "markdown",
   "metadata": {},
   "source": [
    "### Question 6.\n",
    "\n",
    "Please extract 'hello' from the following nested dictionary using indexing."
   ]
  },
  {
   "cell_type": "code",
   "execution_count": 22,
   "metadata": {},
   "outputs": [
    {
     "name": "stdout",
     "output_type": "stream",
     "text": [
      "hello\n"
     ]
    }
   ],
   "source": [
    "## The dictionary is given as follows:\n",
    "\n",
    "nested_dict = {'level_1':\n",
    "               [1, 'two', 3.0, '4', \n",
    "                {'level_2_1':'not there yet',\n",
    "                 'level_2_2':[\n",
    "                    'one', \n",
    "                    {'getting close':{\n",
    "                        'almost there':[\n",
    "                            ('so close now', 'not yet'),\n",
    "                            ('finally','hello')]}}]}]}\n",
    "\n",
    "## Your program starts from here:\n",
    "print(nested_dict[\"level_1\"][4][\"level_2_2\"][1][\"getting close\"][\"almost there\"][1][1])\n",
    "\n"
   ]
  },
  {
   "cell_type": "code",
   "execution_count": null,
   "metadata": {},
   "outputs": [],
   "source": []
  }
 ],
 "metadata": {
  "kernelspec": {
   "display_name": "Python 3 (ipykernel)",
   "language": "python",
   "name": "python3"
  },
  "language_info": {
   "codemirror_mode": {
    "name": "ipython",
    "version": 3
   },
   "file_extension": ".py",
   "mimetype": "text/x-python",
   "name": "python",
   "nbconvert_exporter": "python",
   "pygments_lexer": "ipython3",
   "version": "3.12.7"
  }
 },
 "nbformat": 4,
 "nbformat_minor": 4
}
