{
 "cells": [
  {
   "cell_type": "markdown",
   "metadata": {},
   "source": [
    "### Task 1.\n",
    "\n",
    "We want to write a program which can convert a given list of temperatures in Celsius to Fahrenheit. The conversion formula between Celsius (C) and Fahrenheit (F) is given as follows:\n",
    "\n",
    "    F = 1.8 * C + 32\n",
    "    \n",
    "We can implement it with multiple ways."
   ]
  },
  {
   "cell_type": "markdown",
   "metadata": {},
   "source": [
    "#### Method 1.\n",
    "\n",
    "To start with, we can use a <code>for</code> loop:"
   ]
  },
  {
   "cell_type": "code",
   "execution_count": 15,
   "metadata": {},
   "outputs": [
    {
     "name": "stdout",
     "output_type": "stream",
     "text": [
      "[102.6, 97.7, 99.1, 100.0]\n"
     ]
    }
   ],
   "source": [
    "## Test list:\n",
    "\n",
    "temperature_c = [39.2, 36.5, 37.3, 37.8]\n",
    "temperature_f = []\n",
    "## Please use a for loop to convert the temperatures (in Celsius) given in temperature_c to Fahrenheit,\n",
    "## and then save them in a new list:\n",
    "for x in temperature_c:\n",
    "    f = 1.8 * x +32\n",
    "    temperature_f.append(round(f,1))\n",
    "print(temperature_f)\n"
   ]
  },
  {
   "cell_type": "markdown",
   "metadata": {},
   "source": [
    "#### Method 2.\n",
    "\n",
    "We can also use a **list comprehension** for this task. Please try to replicate the above program with a list comprehension."
   ]
  },
  {
   "cell_type": "code",
   "execution_count": 17,
   "metadata": {},
   "outputs": [
    {
     "name": "stdout",
     "output_type": "stream",
     "text": [
      "[102.6, 97.7, 99.1, 100.0]\n"
     ]
    }
   ],
   "source": [
    "## Test list:\n",
    "\n",
    "temperature_c = [39.2, 36.5, 37.3, 37.8]\n",
    "\n",
    "## With a list comprehension:\n",
    "temperature_f = [round(1.8 * x + 32, 1) for x in temperature_c]\n",
    "print(temperature_f)"
   ]
  },
  {
   "cell_type": "markdown",
   "metadata": {},
   "source": [
    "#### Method 3.\n",
    "\n",
    "We can also use a **lambda expression** and the <code>map()</code> function together to convert the same list of temperatures in Celsius to Fahrenheit."
   ]
  },
  {
   "cell_type": "code",
   "execution_count": 21,
   "metadata": {},
   "outputs": [
    {
     "name": "stdout",
     "output_type": "stream",
     "text": [
      "[102.6, 97.7, 99.1, 100.0]\n"
     ]
    }
   ],
   "source": [
    "## Test list:\n",
    "\n",
    "temperature_c = [39.2, 36.5, 37.3, 37.8]\n",
    "\n",
    "## With the combination of a lambda expression and the map() function:\n",
    "temperature_f = list(map(lambda x: round(1.8 * x + 32, 1), temperature_c))\n",
    "print(temperature_f)\n"
   ]
  },
  {
   "cell_type": "markdown",
   "metadata": {},
   "source": [
    "### Task 2.\n",
    "\n",
    "Please write a program, which filters out the even numbers of the given list, and saves the odd numbers in a new list.\n",
    "\n",
    "Again, we can implement it with multiple ways."
   ]
  },
  {
   "cell_type": "markdown",
   "metadata": {},
   "source": [
    "#### Method 1.\n",
    "\n",
    "For exmaple, we can use a <code>for</code> loop:"
   ]
  },
  {
   "cell_type": "code",
   "execution_count": 33,
   "metadata": {},
   "outputs": [
    {
     "name": "stdout",
     "output_type": "stream",
     "text": [
      "[1, 3, 5, 7, 9]\n"
     ]
    }
   ],
   "source": [
    "## Test list:\n",
    "\n",
    "test_list = range(11)\n",
    "odd_list = []\n",
    "## With a for loop:\n",
    "for x in test_list:\n",
    "    if x % 2 != 0:\n",
    "        odd_list.append(x)\n",
    "print(odd_list)"
   ]
  },
  {
   "cell_type": "markdown",
   "metadata": {},
   "source": [
    "#### Method 2.\n",
    "\n",
    "We can also use a **list comprehension** for this task. Please try to replicate the above program with a list comprehension."
   ]
  },
  {
   "cell_type": "code",
   "execution_count": 46,
   "metadata": {},
   "outputs": [
    {
     "name": "stdout",
     "output_type": "stream",
     "text": [
      "[1, 3, 5, 7, 9]\n"
     ]
    }
   ],
   "source": [
    "## Test list:\n",
    "\n",
    "test_list = range(11)\n",
    "\n",
    "## With a list comprehension:\n",
    "odd_list = [x for x in test_list if x % 2 != 0]\n",
    "print(odd_list)"
   ]
  },
  {
   "cell_type": "markdown",
   "metadata": {},
   "source": [
    "#### Method 3.\n",
    "\n",
    "Sometimes, we can also replace a **list comprehension** with the combination of a **lambda expression** and the <code>filter()</code> function."
   ]
  },
  {
   "cell_type": "code",
   "execution_count": 48,
   "metadata": {},
   "outputs": [
    {
     "name": "stdout",
     "output_type": "stream",
     "text": [
      "[1, 3, 5, 7, 9]\n"
     ]
    }
   ],
   "source": [
    "## Test list:\n",
    "\n",
    "test_list = range(11)\n",
    "\n",
    "## With the combination of a lambda expression and the filter() function:\n",
    "odd_list = list(filter(lambda x: x % 2 != 0, test_list))\n",
    "print(odd_list)\n",
    "\n"
   ]
  },
  {
   "cell_type": "markdown",
   "metadata": {},
   "source": [
    "### Task 3.\n",
    "\n",
    "An accountant working in a book shop works on the <code>orders</code> list, which is given in the code cell below.\n",
    "\n",
    "Please write a program that returns a list of four tuples, with each tuple consisting of one order number, the corresponding book title and the overall cost (*i.e.*, Price per Item * Quantity)."
   ]
  },
  {
   "cell_type": "code",
   "execution_count": 52,
   "metadata": {},
   "outputs": [],
   "source": [
    "## In each nested list, there are five values, which are:\n",
    "## [Order Number, Book Title, Author, Quantity, Price per Item]\n",
    "\n",
    "orders = [ [\"34587\", \"Learning Python\",       \"Mark Lutz\",   4, 40.95], \n",
    "           [\"98762\", \"Programming Python\",    \"Mark Lutz\",   5, 56.80], \n",
    "           [\"77226\", \"Head Firstbb Python\",   \"Paul Barry\",  3, 32.95], \n",
    "           [\"88112\", \"Einführung in Python3\", \"Bernd Klein\", 3, 24.99] ]"
   ]
  },
  {
   "cell_type": "markdown",
   "metadata": {},
   "source": [
    "#### Method 1.\n",
    "\n",
    "To start with, let's use a <code>for</code> loop."
   ]
  },
  {
   "cell_type": "code",
   "execution_count": 61,
   "metadata": {},
   "outputs": [
    {
     "name": "stdout",
     "output_type": "stream",
     "text": [
      "[('34587', 'Learning Python', 163.8), ('98762', 'Programming Python', 284.0), ('77226', 'Head Firstbb Python', 98.85000000000001), ('88112', 'Einführung in Python3', 74.97)]\n"
     ]
    }
   ],
   "source": [
    "## With a for loop:\n",
    "lister = []\n",
    "for x in orders:\n",
    "    lister.append((x[0],x[1],x[3]*x[4]))\n",
    "        \n",
    "    \n",
    "print(lister)\n"
   ]
  },
  {
   "cell_type": "markdown",
   "metadata": {},
   "source": [
    "#### Method 2.\n",
    "\n",
    "Please try to replicate the above program with a **list comprehension**."
   ]
  },
  {
   "cell_type": "code",
   "execution_count": 71,
   "metadata": {},
   "outputs": [
    {
     "name": "stdout",
     "output_type": "stream",
     "text": [
      "[('34587', 'Learning Python', 163.8), ('98762', 'Programming Python', 284.0), ('77226', 'Head Firstbb Python', 98.85000000000001), ('88112', 'Einführung in Python3', 74.97)]\n"
     ]
    }
   ],
   "source": [
    "## With a list comprehension:\n",
    "lister = [(x[0],x[1],x[3]*x[4]) for x in orders]\n",
    "print(lister)"
   ]
  },
  {
   "cell_type": "markdown",
   "metadata": {},
   "source": [
    "#### Method 3.\n",
    "\n",
    "Next, plese try to replace the above **list comprehension** with the combination of a **lambda expression** and the <code>map()</code> function."
   ]
  },
  {
   "cell_type": "code",
   "execution_count": 74,
   "metadata": {},
   "outputs": [
    {
     "name": "stdout",
     "output_type": "stream",
     "text": [
      "[('34587', 'Learning Python', 163.8), ('98762', 'Programming Python', 284.0), ('77226', 'Head Firstbb Python', 98.85000000000001), ('88112', 'Einführung in Python3', 74.97)]\n"
     ]
    }
   ],
   "source": [
    "## With the combination of a lambda expression and the map() function:\n",
    "lister = list(map(lambda x: (x[0],x[1],x[3]*x[4]), orders))\n",
    "print(lister)"
   ]
  },
  {
   "cell_type": "markdown",
   "metadata": {},
   "source": [
    "### Task 4.\n",
    "\n",
    "Please look at the Python expression below. What do you think we'll get when we run it? When you've made your prediction, uncomment the code and run the cell to see if you were right."
   ]
  },
  {
   "cell_type": "code",
   "execution_count": 78,
   "metadata": {},
   "outputs": [],
   "source": [
    "# [1, 2, 3, 4, 5] > 2"
   ]
  },
  {
   "cell_type": "markdown",
   "metadata": {},
   "source": [
    "I bet you had expected that Python would compare each element of the list to 2 (*i.e.*, do an 'element-wise' comparison) and give us a list of boolean values like <code>[False, False, True, True, True]</code>. Unfortunately, Python (without additional library such as Numpy) can not perfrom element-wise comparison or element-wise mathematical operations.\n",
    "\n",
    "Before we introduce Numpy next week, let's implement a function <code>elementwise_greater_than(l, n)</code> which returns a list of boolean values indicating whether the corresponding element of list <code>l</code> is greater than the given number <code>n</code>:"
   ]
  },
  {
   "cell_type": "markdown",
   "metadata": {},
   "source": [
    "#### Method 1.\n",
    "\n",
    "Here's one solution using a <code>for</code> loop:"
   ]
  },
  {
   "cell_type": "code",
   "execution_count": 82,
   "metadata": {},
   "outputs": [],
   "source": [
    "def elementwise_greater_than_version_1(l, n):\n",
    "    \"\"\"\n",
    "    Return a list with the same length as l, where the value at index i is \n",
    "    True if l[i] is greater than n, and False otherwise.\n",
    "    \"\"\"\n",
    "    result = []\n",
    "    for num in l:\n",
    "        result.append(num > n)\n",
    "    return result"
   ]
  },
  {
   "cell_type": "code",
   "execution_count": 84,
   "metadata": {},
   "outputs": [
    {
     "data": {
      "text/plain": [
       "[False, False, True, True, True]"
      ]
     },
     "execution_count": 84,
     "metadata": {},
     "output_type": "execute_result"
    }
   ],
   "source": [
    "## Let's test the function:\n",
    "\n",
    "elementwise_greater_than_version_1([1, 2, 3, 4, 5], 2)"
   ]
  },
  {
   "cell_type": "markdown",
   "metadata": {},
   "source": [
    "#### Method 2.\n",
    "\n",
    "We can also use a **list comprehension**. Please write another version of the function using list comprehension:\n"
   ]
  },
  {
   "cell_type": "code",
   "execution_count": 86,
   "metadata": {},
   "outputs": [],
   "source": [
    "def elementwise_greater_than_version_2(l, n):\n",
    "    \"\"\"\n",
    "    Return a list with the same length as l, where the value at index i is \n",
    "    True if l[i] is greater than n, and False otherwise.\n",
    "    \"\"\"\n",
    "    return [x>n for x in l]\n",
    "    \n",
    "    "
   ]
  },
  {
   "cell_type": "code",
   "execution_count": 88,
   "metadata": {},
   "outputs": [
    {
     "data": {
      "text/plain": [
       "[False, False, True, True, True]"
      ]
     },
     "execution_count": 88,
     "metadata": {},
     "output_type": "execute_result"
    }
   ],
   "source": [
    "## Test the new function here:\n",
    "\n",
    "elementwise_greater_than_version_2([1, 2, 3, 4, 5], 2)"
   ]
  },
  {
   "cell_type": "markdown",
   "metadata": {},
   "source": [
    "#### Method 3.\n",
    "\n",
    "Please write another version of the function using a **lambda expression** and the <code>map()</code> function:"
   ]
  },
  {
   "cell_type": "code",
   "execution_count": 94,
   "metadata": {},
   "outputs": [],
   "source": [
    "def elementwise_greater_than_version_3(l, n):\n",
    "    \"\"\"\n",
    "    Return a list with the same length as l, where the value at index i is \n",
    "    True if l[i] is greater than n, and False otherwise.\n",
    "    \"\"\"\n",
    "    return list(map(lambda x: x>n, l))\n",
    "   \n"
   ]
  },
  {
   "cell_type": "code",
   "execution_count": 96,
   "metadata": {},
   "outputs": [
    {
     "data": {
      "text/plain": [
       "[False, False, True, True, True]"
      ]
     },
     "execution_count": 96,
     "metadata": {},
     "output_type": "execute_result"
    }
   ],
   "source": [
    "## Test the new function here:\n",
    "\n",
    "elementwise_greater_than_version_3([1, 2, 3, 4, 5], 2)"
   ]
  },
  {
   "cell_type": "code",
   "execution_count": null,
   "metadata": {},
   "outputs": [],
   "source": []
  }
 ],
 "metadata": {
  "kernelspec": {
   "display_name": "Python 3 (ipykernel)",
   "language": "python",
   "name": "python3"
  },
  "language_info": {
   "codemirror_mode": {
    "name": "ipython",
    "version": 3
   },
   "file_extension": ".py",
   "mimetype": "text/x-python",
   "name": "python",
   "nbconvert_exporter": "python",
   "pygments_lexer": "ipython3",
   "version": "3.12.7"
  }
 },
 "nbformat": 4,
 "nbformat_minor": 4
}
