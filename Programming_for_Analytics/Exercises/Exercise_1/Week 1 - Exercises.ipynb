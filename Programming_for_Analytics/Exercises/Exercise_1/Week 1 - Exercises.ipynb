{
 "cells": [
  {
   "cell_type": "markdown",
   "metadata": {},
   "source": [
    "# Built-in Types of Python (Numeric Types and Strings)"
   ]
  },
  {
   "cell_type": "markdown",
   "metadata": {},
   "source": [
    "### Task 1. \n",
    "\n",
    "Please write a program that asks the user to enter the width and length of a room in meters. Once the values have been entered, your program should compute and print the area of the room.\n",
    "\n",
    "NOTE: You can print several elements with the <code>print()</code> function, and you need to separate them by commas. You will get a output where all the elements are put together separated by space.\n",
    "\n",
    "For example, if you want to return a string and a numeric type (integer or floating points number) together in the same line in the output, you can use the <code>print()</code> function as follows:\n",
    "\n",
    "> <code>print(\"a string\", 120.5)</code>\n",
    "\n",
    "The output will be \n",
    "\n",
    "> <code>a string 120.5</code>"
   ]
  },
  {
   "cell_type": "code",
   "execution_count": 7,
   "metadata": {},
   "outputs": [
    {
     "name": "stdin",
     "output_type": "stream",
     "text": [
      "Enter Width: 12.123\n",
      "Enter Length: 12.123\n"
     ]
    },
    {
     "name": "stdout",
     "output_type": "stream",
     "text": [
      "Area: 146.96712899999997\n"
     ]
    }
   ],
   "source": [
    "w = float(input(\"Enter Width:\"))\n",
    "l = float(input(\"Enter Length:\"))\n",
    "print(\"Area:\", w*l)"
   ]
  },
  {
   "cell_type": "markdown",
   "metadata": {},
   "source": [
    "### Task 2.\n",
    "\n",
    "Please write a program that takes a positive integer, n, from the user and then displays the sum of all the integers from 1 to n. The sum of the first n positive integers can be computed using the formula: n * (n + 1) / 2"
   ]
  },
  {
   "cell_type": "code",
   "execution_count": 9,
   "metadata": {},
   "outputs": [
    {
     "name": "stdin",
     "output_type": "stream",
     "text": [
      "enter pos numb: 678\n"
     ]
    },
    {
     "name": "stdout",
     "output_type": "stream",
     "text": [
      "Sum:  230181\n"
     ]
    }
   ],
   "source": [
    "n = int(input(\"enter pos numb:\"))\n",
    "print(\"Sum: \", int(n*(n+1)/2))"
   ]
  },
  {
   "cell_type": "markdown",
   "metadata": {},
   "source": [
    "### Task 3.\n",
    "\n",
    "You have just opened a new savings account that earns 4 percent interest per year. The interest that you earn is paid at the end of the year, and is added to the balance of the savings account. Please write a program that first takes from the user the amount of the money deposited into the account, and then computes and displays the amount in the savings account after 1, 2, and 3 years, respectively."
   ]
  },
  {
   "cell_type": "code",
   "execution_count": 19,
   "metadata": {},
   "outputs": [
    {
     "name": "stdin",
     "output_type": "stream",
     "text": [
      "enter money amount 4\n"
     ]
    },
    {
     "name": "stdout",
     "output_type": "stream",
     "text": [
      "balance after 1 years: 4.16\n",
      "balance after 2 years: 4.3264000000000005\n",
      "balance after 3 years: 4.499456\n"
     ]
    }
   ],
   "source": [
    "deposit = float(input(\"enter money amount\"))\n",
    "intrest= 0.04\n",
    "for x in range(1,4):\n",
    "    \n",
    "    print(f\"balance after {x} years:\", deposit*((1+intrest)**x))"
   ]
  },
  {
   "cell_type": "markdown",
   "metadata": {},
   "source": [
    "### Task 4.\n",
    "\n",
    "Please develop a program that takes a four-digit integer from the user and displays the sum of the digits in the number. For example, if the user enters 3141 then your program should display 9 (= 3 + 1 + 4 + 1)."
   ]
  },
  {
   "cell_type": "code",
   "execution_count": 29,
   "metadata": {},
   "outputs": [
    {
     "name": "stdin",
     "output_type": "stream",
     "text": [
      "enter four numb int: 1234\n"
     ]
    },
    {
     "name": "stdout",
     "output_type": "stream",
     "text": [
      "10\n"
     ]
    }
   ],
   "source": [
    "n = input(\"enter four numb int:\")\n",
    "sum=0\n",
    "for numb in n:\n",
    "    sum = sum + int(numb)\n",
    "print(sum)"
   ]
  },
  {
   "cell_type": "markdown",
   "metadata": {},
   "source": [
    "### Task 5.\n",
    "\n",
    "Please write a program which can return a string made up of the first and the last elements from a given string."
   ]
  },
  {
   "cell_type": "code",
   "execution_count": 38,
   "metadata": {},
   "outputs": [
    {
     "name": "stdin",
     "output_type": "stream",
     "text": [
      "enter string:  ghj\n"
     ]
    },
    {
     "name": "stdout",
     "output_type": "stream",
     "text": [
      "gj\n"
     ]
    }
   ],
   "source": [
    "print((text := input(\"enter string: \"))[0] + text[-1])"
   ]
  },
  {
   "cell_type": "markdown",
   "metadata": {},
   "source": [
    "### Task 6.\n",
    "\n",
    "Please write a program which can return a string made up of the first 2 and the last 2 elements from a given string."
   ]
  },
  {
   "cell_type": "code",
   "execution_count": 42,
   "metadata": {},
   "outputs": [
    {
     "name": "stdin",
     "output_type": "stream",
     "text": [
      "enter string:  qwas\n"
     ]
    },
    {
     "name": "stdout",
     "output_type": "stream",
     "text": [
      "qwas\n"
     ]
    }
   ],
   "source": [
    "print((text := input(\"enter string: \"))[0:2] + text[-2:])"
   ]
  },
  {
   "cell_type": "markdown",
   "metadata": {},
   "source": [
    "### Task 7.\n",
    "\n",
    "Please write a program that can change a given string to a new string, in which the first and last elements of the given string are exchanged."
   ]
  },
  {
   "cell_type": "code",
   "execution_count": 44,
   "metadata": {},
   "outputs": [
    {
     "name": "stdin",
     "output_type": "stream",
     "text": [
      "enter string:  qwerty\n"
     ]
    },
    {
     "name": "stdout",
     "output_type": "stream",
     "text": [
      "ywertq\n"
     ]
    }
   ],
   "source": [
    "print((text := input(\"enter string: \"))[-1] + text[1:-1] + text[0])"
   ]
  },
  {
   "cell_type": "code",
   "execution_count": null,
   "metadata": {},
   "outputs": [],
   "source": []
  }
 ],
 "metadata": {
  "kernelspec": {
   "display_name": "Python 3 (ipykernel)",
   "language": "python",
   "name": "python3"
  },
  "language_info": {
   "codemirror_mode": {
    "name": "ipython",
    "version": 3
   },
   "file_extension": ".py",
   "mimetype": "text/x-python",
   "name": "python",
   "nbconvert_exporter": "python",
   "pygments_lexer": "ipython3",
   "version": "3.12.7"
  }
 },
 "nbformat": 4,
 "nbformat_minor": 4
}
