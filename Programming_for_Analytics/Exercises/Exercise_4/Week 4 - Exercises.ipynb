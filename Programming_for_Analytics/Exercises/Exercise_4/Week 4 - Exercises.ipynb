{
 "cells": [
  {
   "cell_type": "markdown",
   "metadata": {},
   "source": [
    "### Task 1: <code>even_number()</code>\n",
    "    \n",
    "Please write a function, <code>even_number()</code>, which takes a list of all integers as its argument and returns the number of even numbers in the given list. "
   ]
  },
  {
   "cell_type": "code",
   "execution_count": 42,
   "metadata": {},
   "outputs": [],
   "source": [
    "## Your function starts from here:\n",
    "def even_number(integers):\n",
    "    count = 0\n",
    "    for number in integers:\n",
    "        if isinstance(number,int):\n",
    "            if number % 2 == 0:\n",
    "                count += 1\n",
    "    return count\n",
    "    \n"
   ]
  },
  {
   "cell_type": "code",
   "execution_count": 43,
   "metadata": {},
   "outputs": [
    {
     "data": {
      "text/plain": [
       "50"
      ]
     },
     "execution_count": 43,
     "metadata": {},
     "output_type": "execute_result"
    }
   ],
   "source": [
    "## Test your function:\n",
    "\n",
    "even_number(list(range(1, 101)))  ## Answer: 50"
   ]
  },
  {
   "cell_type": "markdown",
   "metadata": {},
   "source": [
    "### Task 2: <code>any_odd_number()</code>\n",
    "\n",
    "Please write a function, <code>any_odd_number()</code>, which takes a list of number as its argument and checks whether the given list has any odd number in it. If there is any odd number, then the function should return <code>True</code>, otherwise return <code>False</code>."
   ]
  },
  {
   "cell_type": "code",
   "execution_count": 45,
   "metadata": {},
   "outputs": [],
   "source": [
    "## Your function starts from here:\n",
    "def any_odd_number(integers):\n",
    "    for number in integers:\n",
    "        if isinstance(number,int):\n",
    "            if number % 2 != 0:\n",
    "                return True\n",
    "    return False\n"
   ]
  },
  {
   "cell_type": "code",
   "execution_count": 46,
   "metadata": {},
   "outputs": [
    {
     "name": "stdout",
     "output_type": "stream",
     "text": [
      "True\n",
      "False\n"
     ]
    }
   ],
   "source": [
    "## Test your function:\n",
    "\n",
    "print(any_odd_number([2,4,3,8,10]))  ## True\n",
    "print(any_odd_number([2,4,6,8,10]))  ## False"
   ]
  },
  {
   "cell_type": "markdown",
   "metadata": {},
   "source": [
    "### Task 3: <code>is_prime()</code>\n",
    "\n",
    "Please write a function, <code>is_prime()</code>, which takes one number as its argument and checks whether the input number is prime (divisible only by 1 and itself). If the input number is prime, then the function should return <code>True</code>, otherwise return <code>False</code>."
   ]
  },
  {
   "cell_type": "code",
   "execution_count": 48,
   "metadata": {},
   "outputs": [],
   "source": [
    "## Your function starts from here:\n",
    "def is_prime(number):\n",
    "    if number <= 1:\n",
    "            return False\n",
    "    for x in range(2,int(number/2)+1):\n",
    "        if number % x == 0:\n",
    "            return False\n",
    "    return True\n"
   ]
  },
  {
   "cell_type": "code",
   "execution_count": 49,
   "metadata": {
    "scrolled": true
   },
   "outputs": [
    {
     "name": "stdout",
     "output_type": "stream",
     "text": [
      "Is 0 prime? False\n",
      "Is 1 prime? False\n",
      "Is 2 prime? True\n",
      "Is 3 prime? True\n",
      "Is 4 prime? False\n",
      "Is 5 prime? True\n",
      "Is 6 prime? False\n",
      "Is 7 prime? True\n",
      "Is 8 prime? False\n",
      "Is 9 prime? False\n",
      "Is 10 prime? False\n",
      "Is 11 prime? True\n",
      "Is 12 prime? False\n",
      "Is 13 prime? True\n",
      "Is 14 prime? False\n",
      "Is 15 prime? False\n",
      "Is 16 prime? False\n",
      "Is 17 prime? True\n",
      "Is 18 prime? False\n",
      "Is 19 prime? True\n",
      "Is 20 prime? False\n",
      "Is 21 prime? False\n",
      "Is 22 prime? False\n",
      "Is 23 prime? True\n",
      "Is 24 prime? False\n",
      "Is 25 prime? False\n",
      "Is 26 prime? False\n",
      "Is 27 prime? False\n",
      "Is 28 prime? False\n",
      "Is 29 prime? True\n",
      "Is 30 prime? False\n",
      "Is 31 prime? True\n",
      "Is 32 prime? False\n",
      "Is 33 prime? False\n",
      "Is 34 prime? False\n",
      "Is 35 prime? False\n",
      "Is 36 prime? False\n",
      "Is 37 prime? True\n",
      "Is 38 prime? False\n",
      "Is 39 prime? False\n",
      "Is 40 prime? False\n",
      "Is 41 prime? True\n",
      "Is 42 prime? False\n",
      "Is 43 prime? True\n",
      "Is 44 prime? False\n",
      "Is 45 prime? False\n",
      "Is 46 prime? False\n",
      "Is 47 prime? True\n",
      "Is 48 prime? False\n",
      "Is 49 prime? False\n",
      "Is 50 prime? False\n",
      "Is 51 prime? False\n",
      "Is 52 prime? False\n",
      "Is 53 prime? True\n",
      "Is 54 prime? False\n",
      "Is 55 prime? False\n",
      "Is 56 prime? False\n",
      "Is 57 prime? False\n",
      "Is 58 prime? False\n",
      "Is 59 prime? True\n",
      "Is 60 prime? False\n",
      "Is 61 prime? True\n",
      "Is 62 prime? False\n",
      "Is 63 prime? False\n",
      "Is 64 prime? False\n",
      "Is 65 prime? False\n",
      "Is 66 prime? False\n",
      "Is 67 prime? True\n",
      "Is 68 prime? False\n",
      "Is 69 prime? False\n",
      "Is 70 prime? False\n",
      "Is 71 prime? True\n",
      "Is 72 prime? False\n",
      "Is 73 prime? True\n",
      "Is 74 prime? False\n",
      "Is 75 prime? False\n",
      "Is 76 prime? False\n",
      "Is 77 prime? False\n",
      "Is 78 prime? False\n",
      "Is 79 prime? True\n",
      "Is 80 prime? False\n",
      "Is 81 prime? False\n",
      "Is 82 prime? False\n",
      "Is 83 prime? True\n"
     ]
    }
   ],
   "source": [
    "## Test your function:\n",
    "\n",
    "for number in range(0, 84):\n",
    "    print(\"Is\", number, \"prime?\", is_prime(number))"
   ]
  },
  {
   "cell_type": "markdown",
   "metadata": {},
   "source": [
    "### Task 4: <code>twin_primes()</code>\n",
    "\n",
    "Twin primes are a pair of prime numbers that differ by 2. For example, 3 and 5, 5 and 7, and 11 and 13 are twin primes. \n",
    "\n",
    "Please write a function, <code>twin_primes()</code>, which takes a positive integer as its argument and prints out all twin primes less than the given number. Your function should display the output as follows:\n",
    "\n",
    "    3 and 5\n",
    "    5 and 7\n",
    "    11 and 13\n",
    "    17 and 19\n",
    "    ...\n",
    "    \n",
    "**Hint**: You can use the <code>is_prime()</code> function from Task 3 in defining your <code>twin_primes()</code> function."
   ]
  },
  {
   "cell_type": "code",
   "execution_count": 51,
   "metadata": {},
   "outputs": [],
   "source": [
    "## Your function starts from here:\n",
    "\n",
    "def twin_primes(number):\n",
    "    if number <= 1:\n",
    "            print(\"no primes\")\n",
    "    prev_prime = 2\n",
    "    for x in range(3,number):\n",
    "        if is_prime(x):\n",
    "            if x - prev_prime == 2:\n",
    "                print(f\"{prev_prime} and {x}\")\n",
    "            prev_prime = x\n",
    "            \n"
   ]
  },
  {
   "cell_type": "code",
   "execution_count": 52,
   "metadata": {},
   "outputs": [
    {
     "name": "stdout",
     "output_type": "stream",
     "text": [
      "3 and 5\n",
      "5 and 7\n",
      "11 and 13\n",
      "17 and 19\n",
      "29 and 31\n",
      "41 and 43\n",
      "59 and 61\n",
      "71 and 73\n",
      "101 and 103\n",
      "107 and 109\n",
      "137 and 139\n",
      "149 and 151\n",
      "179 and 181\n",
      "191 and 193\n",
      "197 and 199\n",
      "227 and 229\n",
      "239 and 241\n",
      "269 and 271\n",
      "281 and 283\n",
      "311 and 313\n",
      "347 and 349\n",
      "419 and 421\n",
      "431 and 433\n",
      "461 and 463\n",
      "521 and 523\n",
      "569 and 571\n",
      "599 and 601\n",
      "617 and 619\n",
      "641 and 643\n",
      "659 and 661\n",
      "809 and 811\n",
      "821 and 823\n",
      "827 and 829\n",
      "857 and 859\n",
      "881 and 883\n"
     ]
    }
   ],
   "source": [
    "## Test your function:\n",
    "\n",
    "twin_primes(1000)  ## The output should contain 35 pairs of prime numbers."
   ]
  },
  {
   "cell_type": "markdown",
   "metadata": {},
   "source": [
    "### Task 5: <code>text_to_morse()</code>\n",
    "\n",
    "Please use the given dictionary <code>latin_to_morse_dict</code> to write a function <code>text_to_morse()</code>, which can translate a text to Morse code, that is, your function will take a string as its argument and return a string of Morse code.\n",
    "\n",
    "For example, the Morse code for \"Hi there!\" is:\n",
    "\n",
    "    '.... ..    - .... . .-. . -.-.--'\n",
    "\n",
    "Note: Morse characters of the same word are separated by *one* space, and Morse words are separated by *four* spaces."
   ]
  },
  {
   "cell_type": "code",
   "execution_count": 54,
   "metadata": {},
   "outputs": [],
   "source": [
    "## The following dictionary maps each Latin character to one Morse character.\n",
    "\n",
    "## Please run this code cell without modifying anything in it.\n",
    "\n",
    "latin_to_morse_dict = {'A':'.-', 'B':'-...', 'C':'-.-.', 'D':'-..', \\\n",
    "                       'E':'.', 'F':'..-.', 'G':'--.','H':'....', \\\n",
    "                       'I':'..', 'J':'.---', 'K':'-.-', 'L':'.-..', \\\n",
    "                       'M':'--', 'N':'-.', 'O':'---', 'P':'.--.', \\\n",
    "                       'Q':'--.-', 'R':'.-.', 'S':'...', 'T':'-', \\\n",
    "                       'U':'..-', 'V':'...-', 'W':'.--', 'X':'-..-', \\\n",
    "                       'Y':'-.--', 'Z':'--..', '1':'.----', '2':'..---', \\\n",
    "                       '3':'...--', '4':'....-', '5':'.....', '6':'-....', \\\n",
    "                       '7':'--...', '8':'---..', '9':'----.', '0':'-----', \\\n",
    "                       ',':'--..--', '.':'.-.-.-', '?':'..--..', ';':'-.-.-', \\\n",
    "                       ':':'---...', '/':'-..-.', '-':'-....-', '\\'':'.----.', \\\n",
    "                       '(':'-.--.-', ')':'-.--.-', '[':'-.--.-', ']':'-.--.-', \\\n",
    "                       '{':'-.--.-', '}':'-.--.-', '_':'..--.-', '!':'-.-.--'}\n",
    "\n",
    "## Note: '(', ')', '[', ']', '{' and '}' have the identical Morse character '-.--.-'"
   ]
  },
  {
   "cell_type": "code",
   "execution_count": 55,
   "metadata": {},
   "outputs": [],
   "source": [
    "## Your function starts from here:\n",
    "def text_to_morse(latin_text):\n",
    "    latin_text = latin_text.upper()\n",
    "    morse= []\n",
    "\n",
    "    for char in latin_text:\n",
    "        if char ==\" \":\n",
    "            morse.append(\"  \")\n",
    "        elif char in latin_to_morse_dict:\n",
    "            morse.append(latin_to_morse_dict[char])\n",
    "        else:\n",
    "            continue\n",
    "       \n",
    "    print(\" \".join(morse)   )\n",
    "    \n"
   ]
  },
  {
   "cell_type": "markdown",
   "metadata": {},
   "source": [
    "Test your function with the following texts:"
   ]
  },
  {
   "cell_type": "code",
   "execution_count": 57,
   "metadata": {},
   "outputs": [
    {
     "name": "stdout",
     "output_type": "stream",
     "text": [
      ".... ..    - .... . .-. . -.-.--\n"
     ]
    }
   ],
   "source": [
    "text_to_morse('Hi there!')\n",
    "\n",
    "## '.... ..    - .... . .-. . -.-.--'"
   ]
  },
  {
   "cell_type": "code",
   "execution_count": 58,
   "metadata": {},
   "outputs": [
    {
     "name": "stdout",
     "output_type": "stream",
     "text": [
      ".--. .-. --- --. .-. .- -- -- .. -. --.    ..-. --- .-.    .- -. .- .-.. -.-- - .. -.-. ...\n"
     ]
    }
   ],
   "source": [
    "text_to_morse('Programming for Analytics')\n",
    "\n",
    "## '.--. .-. --- --. .-. .- -- -- .. -. --.    ..-. --- .-.    .- -. .- .-.. -.-- - .. -.-. ...'"
   ]
  },
  {
   "cell_type": "markdown",
   "metadata": {},
   "source": [
    "### Task 6. <code>good_password()</code>\n",
    "\n",
    "In this exercise you will write a function, <code>good_password()</code>, which determines whether or not a password is good. We will deem a password good if it is at least 8 characters long and contains at least one uppercase letter, at least one lowercase letter, and at least one number. Your function should return <code>True</code> if the password passed to it as its only argument is good. Otherwise it should return <code>False</code>.\n",
    "\n",
    "Hint: Recall from our discussion of variable names, that uppercase and lowercase letters are considered to be different. The way the computer knows they are different is that each character is assigned a unique integer value, which is called the **Ordinal Value**. For example, “A” is 65, “B” is 66, “a” is 97, “b” is 98, and “1” is 49.\n",
    "\n",
    "In Python, we can find out these so-called **Ordinal Value** for a given character with the character function: <code>ord()</code>. Please run the following code cell to check the ordinal values for some charaters, and see how we can compare charaters."
   ]
  },
  {
   "cell_type": "code",
   "execution_count": 60,
   "metadata": {},
   "outputs": [
    {
     "name": "stdout",
     "output_type": "stream",
     "text": [
      "The ordinal value of A is 65\n",
      "The ordinal value of B is 66\n",
      "The ordinal value of C is 67\n",
      "The ordinal value of D is 68\n",
      "The ordinal value of E is 69\n",
      "The ordinal value of a is 97\n",
      "The ordinal value of b is 98\n",
      "The ordinal value of c is 99\n",
      "The ordinal value of d is 100\n",
      "The ordinal value of e is 101\n",
      "The ordinal value of 1 is 49\n",
      "The ordinal value of 2 is 50\n",
      "The ordinal value of 3 is 51\n",
      "The ordinal value of 4 is 52\n",
      "The ordinal value of 5 is 53\n",
      "\n",
      "\n",
      "True\n",
      "True\n",
      "True\n"
     ]
    }
   ],
   "source": [
    "alphabet = ['A','B','C','D','E','a','b','c','d','e','1','2','3','4','5']\n",
    "\n",
    "for letter in alphabet:\n",
    "    print('The ordinal value of', letter, 'is', ord(letter))\n",
    "\n",
    "print('\\n')\n",
    "print('A' < 'B')\n",
    "print('A' < 'a')\n",
    "print('1' < '2')"
   ]
  },
  {
   "cell_type": "code",
   "execution_count": 61,
   "metadata": {},
   "outputs": [],
   "source": [
    "## Your function starts from here:\n",
    "# one number, one lowercase, one uppercase min 8 len\n",
    "\n",
    "def good_password(password):\n",
    "    number = False\n",
    "    lowercase = False\n",
    "    uppercase = False\n",
    "    \n",
    "    if len(password) < 8:\n",
    "        return False\n",
    "  \n",
    "    for char in password:\n",
    "        #if ord(char) in range(48,58):\n",
    "        if char.isdigit():\n",
    "            number = True\n",
    "        #elif ord(char) in range(65,91):\n",
    "        elif char.isupper():\n",
    "            uppercase = True\n",
    "        #elif ord(char) in range(97,123):\n",
    "        elif char.islower():\n",
    "            lowercase = True\n",
    "        if lowercase and uppercase and number:\n",
    "            return True\n",
    "    return False"
   ]
  },
  {
   "cell_type": "code",
   "execution_count": 62,
   "metadata": {},
   "outputs": [
    {
     "name": "stdout",
     "output_type": "stream",
     "text": [
      "True\n",
      "False\n",
      "False\n",
      "False\n",
      "False\n",
      "False\n"
     ]
    }
   ],
   "source": [
    "## Test your function:\n",
    "\n",
    "print(good_password('Rtyy8yyrtht_!'))  ## True\n",
    "print(good_password('Rtyy8'))          ## False\n",
    "print(good_password('Rtyyyyyyy'))      ## False\n",
    "print(good_password('rtyy88888'))      ## False\n",
    "print(good_password('R88888888'))      ## False \n",
    "print(good_password('Rt-----_!'))      ## False"
   ]
  }
 ],
 "metadata": {
  "kernelspec": {
   "display_name": "Python 3 (ipykernel)",
   "language": "python",
   "name": "python3"
  },
  "language_info": {
   "codemirror_mode": {
    "name": "ipython",
    "version": 3
   },
   "file_extension": ".py",
   "mimetype": "text/x-python",
   "name": "python",
   "nbconvert_exporter": "python",
   "pygments_lexer": "ipython3",
   "version": "3.12.7"
  }
 },
 "nbformat": 4,
 "nbformat_minor": 4
}
