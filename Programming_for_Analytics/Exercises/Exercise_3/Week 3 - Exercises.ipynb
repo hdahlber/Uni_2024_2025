{
 "cells": [
  {
   "cell_type": "markdown",
   "metadata": {},
   "source": [
    "# <code>for</code> loop"
   ]
  },
  {
   "cell_type": "markdown",
   "metadata": {},
   "source": [
    "### Task 1.\n",
    "\n",
    "Please write a program (with a <code>for</code> loop) that converts from miles to kilometers for 1 to 100 miles. Your program should display something like the following (note that 1 mile is 1.609 kilometers):\n",
    "\n",
    "        1 miles is equivalent to 1.609 kilometers.\n",
    "        2 miles is equivalent to 3.218 kilometers.\n",
    "        3 miles is equivalent to 4.827 kilometers.\n",
    "        ...\n",
    "        98 miles is equivalent to 157.682 kilometers.\n",
    "        99 miles is equivalent to 159.291 kilometers.\n",
    "        100 miles is equivalent to 160.9 kilometers."
   ]
  },
  {
   "cell_type": "code",
   "execution_count": null,
   "metadata": {},
   "outputs": [],
   "source": []
  },
  {
   "cell_type": "markdown",
   "metadata": {},
   "source": [
    "### Task 2.\n",
    "\n",
    "Count the number of even numbers in 0,1,2,,...,8,9,10"
   ]
  },
  {
   "cell_type": "code",
   "execution_count": null,
   "metadata": {},
   "outputs": [],
   "source": []
  },
  {
   "cell_type": "markdown",
   "metadata": {},
   "source": [
    "### Task 3.\n",
    "\n",
    "You will be given a list of different types of objects, which can be integers, floating point numbers, strings, etc. \n",
    "Please write a program that calculates the average of the integer values in the list using a <code>for</code> loop."
   ]
  },
  {
   "cell_type": "code",
   "execution_count": null,
   "metadata": {},
   "outputs": [],
   "source": [
    "## Test list:\n",
    "\n",
    "l = [1, 'nine', 3.56, 8, 14, [1,2], 6, 'list']\n",
    "\n"
   ]
  },
  {
   "cell_type": "markdown",
   "metadata": {},
   "source": [
    "### Task 4.\n",
    "\n",
    "You will be given a sentence as a string. Please use a <code>for</code> loop to print out all the words of the sentence that start with a letter 's'.\n",
    "\n",
    "Recall that the <code>.split()</code> method can split a string by blank space into a list (see Notebook 2. Built-in Type of Python (strings).)"
   ]
  },
  {
   "cell_type": "code",
   "execution_count": null,
   "metadata": {
    "scrolled": true
   },
   "outputs": [],
   "source": [
    "## Test sentence:\n",
    "\n",
    "s = 'This is the sentence to be used to test your solution to this problem.'\n",
    "\n"
   ]
  },
  {
   "cell_type": "markdown",
   "metadata": {},
   "source": [
    "# Lists"
   ]
  },
  {
   "cell_type": "markdown",
   "metadata": {},
   "source": [
    "### Task 1.\n",
    "\n",
    "The proper divisors of a positive integer n are the positive divisors of n other than n itself. For example, the proper divisors of 27 are 1, 3 and 9.\n",
    "\n",
    "Please write a program that creates a **list** containing all the proper divisors of a positive integer specified by the user."
   ]
  },
  {
   "cell_type": "code",
   "execution_count": null,
   "metadata": {},
   "outputs": [],
   "source": []
  },
  {
   "cell_type": "markdown",
   "metadata": {},
   "source": [
    "### Task 2.\n",
    "\n",
    "Please write a program that displays the distinct numbers of a given list of numbers (*i.e.*, if a number appears multiple times, it is displayed only once)."
   ]
  },
  {
   "cell_type": "markdown",
   "metadata": {},
   "source": [
    "NOTE: We can first create an empty list <code>distinct_numbers</code>, and then we check if each number in the given list <code>test</code> is already in it or not:\n",
    "\n",
    " - If the number is not in the list <code>distinct_numbers</code>, we add the number to the list with the <code>.append()</code> method.\n",
    " - If the number is already in the list <code>distinct_numbers</code>, we move on to the next number in the given list <code>test</code>.\n",
    " \n",
    "To check if a number is already in the list <code>distinct_numbers</code> or not, we can use the <code>in</code> or <code>not in</code> operators. <code>in</code> and <code>not in</code> are also called the membership operators. They are used to test whether a value or variable is found in a sequence (e.g. string, list, tuple and dictionary)."
   ]
  },
  {
   "cell_type": "code",
   "execution_count": null,
   "metadata": {},
   "outputs": [],
   "source": [
    "## Test list:\n",
    "\n",
    "test = [30,0,20,3,2,2,2,2,20,1,2,3,4,5,5,5,6,7,7,7,8,9,10]\n",
    "\n"
   ]
  },
  {
   "cell_type": "markdown",
   "metadata": {},
   "source": [
    "### Task 3.\n",
    "\n",
    "Please write a program that checks whether two given words are anagrams. Two words are anagrams if they contain the same letters. For example, \"silent\" and \"listen\" are anagrams, and \"keen\" and \"knee\" are also anagrams.\n",
    "\n",
    "Hint: First, we can use the <code>list()</code> function to split a word (a string) into a list of letters. Then, use the <code>.sort()</code> method to sort the list."
   ]
  },
  {
   "cell_type": "code",
   "execution_count": null,
   "metadata": {},
   "outputs": [],
   "source": []
  }
 ],
 "metadata": {
  "kernelspec": {
   "display_name": "Python 3 (ipykernel)",
   "language": "python",
   "name": "python3"
  },
  "language_info": {
   "codemirror_mode": {
    "name": "ipython",
    "version": 3
   },
   "file_extension": ".py",
   "mimetype": "text/x-python",
   "name": "python",
   "nbconvert_exporter": "python",
   "pygments_lexer": "ipython3",
   "version": "3.9.13"
  }
 },
 "nbformat": 4,
 "nbformat_minor": 2
}
