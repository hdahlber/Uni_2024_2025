{
 "cells": [
  {
   "cell_type": "markdown",
   "metadata": {},
   "source": [
    "# <code>for</code> loop"
   ]
  },
  {
   "cell_type": "markdown",
   "metadata": {},
   "source": [
    "### Task 1.\n",
    "\n",
    "Please write a program (with a <code>for</code> loop) that converts from miles to kilometers for 1 to 100 miles. Your program should display something like the following (note that 1 mile is 1.609 kilometers):\n",
    "\n",
    "        1 miles is equivalent to 1.609 kilometers.\n",
    "        2 miles is equivalent to 3.218 kilometers.\n",
    "        3 miles is equivalent to 4.827 kilometers.\n",
    "        ...\n",
    "        98 miles is equivalent to 157.682 kilometers.\n",
    "        99 miles is equivalent to 159.291 kilometers.\n",
    "        100 miles is equivalent to 160.9 kilometers."
   ]
  },
  {
   "cell_type": "code",
   "execution_count": 7,
   "metadata": {},
   "outputs": [
    {
     "name": "stdout",
     "output_type": "stream",
     "text": [
      "1 miles is equivalent to 1.609 kilometers.\n",
      "2 miles is equivalent to 3.218 kilometers.\n",
      "3 miles is equivalent to 4.827 kilometers.\n",
      "4 miles is equivalent to 6.436 kilometers.\n",
      "5 miles is equivalent to 8.045 kilometers.\n",
      "6 miles is equivalent to 9.654 kilometers.\n",
      "7 miles is equivalent to 11.263 kilometers.\n",
      "8 miles is equivalent to 12.872 kilometers.\n",
      "9 miles is equivalent to 14.481 kilometers.\n",
      "10 miles is equivalent to 16.09 kilometers.\n",
      "11 miles is equivalent to 17.699 kilometers.\n",
      "12 miles is equivalent to 19.308 kilometers.\n",
      "13 miles is equivalent to 20.917 kilometers.\n",
      "14 miles is equivalent to 22.526 kilometers.\n",
      "15 miles is equivalent to 24.135 kilometers.\n",
      "16 miles is equivalent to 25.744 kilometers.\n",
      "17 miles is equivalent to 27.353 kilometers.\n",
      "18 miles is equivalent to 28.962 kilometers.\n",
      "19 miles is equivalent to 30.571 kilometers.\n",
      "20 miles is equivalent to 32.18 kilometers.\n",
      "21 miles is equivalent to 33.789 kilometers.\n",
      "22 miles is equivalent to 35.398 kilometers.\n",
      "23 miles is equivalent to 37.007 kilometers.\n",
      "24 miles is equivalent to 38.616 kilometers.\n",
      "25 miles is equivalent to 40.225 kilometers.\n",
      "26 miles is equivalent to 41.834 kilometers.\n",
      "27 miles is equivalent to 43.443 kilometers.\n",
      "28 miles is equivalent to 45.052 kilometers.\n",
      "29 miles is equivalent to 46.661 kilometers.\n",
      "30 miles is equivalent to 48.27 kilometers.\n",
      "31 miles is equivalent to 49.879 kilometers.\n",
      "32 miles is equivalent to 51.488 kilometers.\n",
      "33 miles is equivalent to 53.097 kilometers.\n",
      "34 miles is equivalent to 54.706 kilometers.\n",
      "35 miles is equivalent to 56.315 kilometers.\n",
      "36 miles is equivalent to 57.924 kilometers.\n",
      "37 miles is equivalent to 59.533 kilometers.\n",
      "38 miles is equivalent to 61.142 kilometers.\n",
      "39 miles is equivalent to 62.751 kilometers.\n",
      "40 miles is equivalent to 64.36 kilometers.\n",
      "41 miles is equivalent to 65.969 kilometers.\n",
      "42 miles is equivalent to 67.578 kilometers.\n",
      "43 miles is equivalent to 69.187 kilometers.\n",
      "44 miles is equivalent to 70.796 kilometers.\n",
      "45 miles is equivalent to 72.405 kilometers.\n",
      "46 miles is equivalent to 74.014 kilometers.\n",
      "47 miles is equivalent to 75.623 kilometers.\n",
      "48 miles is equivalent to 77.232 kilometers.\n",
      "49 miles is equivalent to 78.841 kilometers.\n",
      "50 miles is equivalent to 80.45 kilometers.\n",
      "51 miles is equivalent to 82.059 kilometers.\n",
      "52 miles is equivalent to 83.668 kilometers.\n",
      "53 miles is equivalent to 85.277 kilometers.\n",
      "54 miles is equivalent to 86.886 kilometers.\n",
      "55 miles is equivalent to 88.495 kilometers.\n",
      "56 miles is equivalent to 90.104 kilometers.\n",
      "57 miles is equivalent to 91.713 kilometers.\n",
      "58 miles is equivalent to 93.322 kilometers.\n",
      "59 miles is equivalent to 94.931 kilometers.\n",
      "60 miles is equivalent to 96.54 kilometers.\n",
      "61 miles is equivalent to 98.149 kilometers.\n",
      "62 miles is equivalent to 99.758 kilometers.\n",
      "63 miles is equivalent to 101.367 kilometers.\n",
      "64 miles is equivalent to 102.976 kilometers.\n",
      "65 miles is equivalent to 104.585 kilometers.\n",
      "66 miles is equivalent to 106.194 kilometers.\n",
      "67 miles is equivalent to 107.803 kilometers.\n",
      "68 miles is equivalent to 109.412 kilometers.\n",
      "69 miles is equivalent to 111.021 kilometers.\n",
      "70 miles is equivalent to 112.63 kilometers.\n",
      "71 miles is equivalent to 114.239 kilometers.\n",
      "72 miles is equivalent to 115.848 kilometers.\n",
      "73 miles is equivalent to 117.457 kilometers.\n",
      "74 miles is equivalent to 119.066 kilometers.\n",
      "75 miles is equivalent to 120.675 kilometers.\n",
      "76 miles is equivalent to 122.284 kilometers.\n",
      "77 miles is equivalent to 123.893 kilometers.\n",
      "78 miles is equivalent to 125.502 kilometers.\n",
      "79 miles is equivalent to 127.111 kilometers.\n",
      "80 miles is equivalent to 128.72 kilometers.\n",
      "81 miles is equivalent to 130.329 kilometers.\n",
      "82 miles is equivalent to 131.938 kilometers.\n",
      "83 miles is equivalent to 133.547 kilometers.\n",
      "84 miles is equivalent to 135.156 kilometers.\n",
      "85 miles is equivalent to 136.765 kilometers.\n",
      "86 miles is equivalent to 138.374 kilometers.\n",
      "87 miles is equivalent to 139.983 kilometers.\n",
      "88 miles is equivalent to 141.592 kilometers.\n",
      "89 miles is equivalent to 143.201 kilometers.\n",
      "90 miles is equivalent to 144.81 kilometers.\n",
      "91 miles is equivalent to 146.419 kilometers.\n",
      "92 miles is equivalent to 148.028 kilometers.\n",
      "93 miles is equivalent to 149.637 kilometers.\n",
      "94 miles is equivalent to 151.246 kilometers.\n",
      "95 miles is equivalent to 152.855 kilometers.\n",
      "96 miles is equivalent to 154.464 kilometers.\n",
      "97 miles is equivalent to 156.073 kilometers.\n",
      "98 miles is equivalent to 157.682 kilometers.\n",
      "99 miles is equivalent to 159.291 kilometers.\n",
      "100 miles is equivalent to 160.9 kilometers.\n"
     ]
    }
   ],
   "source": [
    "m = 1.609\n",
    "for x in range(1,101):\n",
    "    print(f\"{x} miles is equivalent to {round(x*m,3)} kilometers.\")"
   ]
  },
  {
   "cell_type": "markdown",
   "metadata": {},
   "source": [
    "### Task 2.\n",
    "\n",
    "Count the number of even numbers in 0,1,2,,...,8,9,10"
   ]
  },
  {
   "cell_type": "code",
   "execution_count": 13,
   "metadata": {},
   "outputs": [
    {
     "name": "stdout",
     "output_type": "stream",
     "text": [
      "5\n"
     ]
    }
   ],
   "source": [
    "num = 10\n",
    "count= 0\n",
    "for x in range(num):\n",
    "    if x%2==0:\n",
    "        count += 1\n",
    "print(count)"
   ]
  },
  {
   "cell_type": "markdown",
   "metadata": {},
   "source": [
    "### Task 3.\n",
    "\n",
    "You will be given a list of different types of objects, which can be integers, floating point numbers, strings, etc. \n",
    "Please write a program that calculates the average of the integer values in the list using a <code>for</code> loop."
   ]
  },
  {
   "cell_type": "code",
   "execution_count": 27,
   "metadata": {},
   "outputs": [
    {
     "name": "stdout",
     "output_type": "stream",
     "text": [
      "7.25\n"
     ]
    }
   ],
   "source": [
    "## Test list:\n",
    "l = [1, 'nine', 3.56, 8, 14, [1,2], 6, 'list']\n",
    "l2 = []\n",
    "for x in l:\n",
    "    if isinstance(x, int):\n",
    "        l2.append(x)\n",
    "        \n",
    "print(sum(l2)/len(l2))"
   ]
  },
  {
   "cell_type": "markdown",
   "metadata": {},
   "source": [
    "### Task 4.\n",
    "\n",
    "You will be given a sentence as a string. Please use a <code>for</code> loop to print out all the words of the sentence that start with a letter 's'.\n",
    "\n",
    "Recall that the <code>.split()</code> method can split a string by blank space into a list (see Notebook 2. Built-in Type of Python (strings).)"
   ]
  },
  {
   "cell_type": "code",
   "execution_count": 37,
   "metadata": {
    "scrolled": true
   },
   "outputs": [
    {
     "name": "stdout",
     "output_type": "stream",
     "text": [
      "sentence\n",
      "solution\n"
     ]
    }
   ],
   "source": [
    "## Test sentence:\n",
    "s = 'This is the sentence to be used to test your solution to this problem.'\n",
    "for x in s.split(\" \"):\n",
    "    if x[0].lower() == \"s\":\n",
    "        print(x)\n"
   ]
  },
  {
   "cell_type": "markdown",
   "metadata": {},
   "source": [
    "# Lists"
   ]
  },
  {
   "cell_type": "markdown",
   "metadata": {},
   "source": [
    "### Task 1.\n",
    "\n",
    "The proper divisors of a positive integer n are the positive divisors of n other than n itself. For example, the proper divisors of 27 are 1, 3 and 9.\n",
    "\n",
    "Please write a program that creates a **list** containing all the proper divisors of a positive integer specified by the user."
   ]
  },
  {
   "cell_type": "code",
   "execution_count": 69,
   "metadata": {},
   "outputs": [
    {
     "name": "stdout",
     "output_type": "stream",
     "text": [
      "1\n",
      "2\n",
      "3\n",
      "4\n",
      "5\n",
      "6\n",
      "7\n",
      "8\n",
      "9\n",
      "10\n",
      "11\n",
      "12\n",
      "13\n",
      "[1, 3, 9]\n"
     ]
    }
   ],
   "source": [
    "y = 27\n",
    "l = []\n",
    "for x in range(1,int(y/2)+1):\n",
    "    if y % x == 0:\n",
    "        l.append(x)\n",
    "print(l)"
   ]
  },
  {
   "cell_type": "markdown",
   "metadata": {},
   "source": [
    "### Task 2.\n",
    "\n",
    "Please write a program that displays the distinct numbers of a given list of numbers (*i.e.*, if a number appears multiple times, it is displayed only once)."
   ]
  },
  {
   "cell_type": "markdown",
   "metadata": {},
   "source": [
    "NOTE: We can first create an empty list <code>distinct_numbers</code>, and then we check if each number in the given list <code>test</code> is already in it or not:\n",
    "\n",
    " - If the number is not in the list <code>distinct_numbers</code>, we add the number to the list with the <code>.append()</code> method.\n",
    " - If the number is already in the list <code>distinct_numbers</code>, we move on to the next number in the given list <code>test</code>.\n",
    " \n",
    "To check if a number is already in the list <code>distinct_numbers</code> or not, we can use the <code>in</code> or <code>not in</code> operators. <code>in</code> and <code>not in</code> are also called the membership operators. They are used to test whether a value or variable is found in a sequence (e.g. string, list, tuple and dictionary)."
   ]
  },
  {
   "cell_type": "code",
   "execution_count": 77,
   "metadata": {},
   "outputs": [
    {
     "name": "stdout",
     "output_type": "stream",
     "text": [
      "{0, 1, 2, 3, 4, 5, 6, 7, 8, 9, 10, 20, 30}\n",
      "[0, 1, 2, 3, 4, 5, 6, 7, 8, 9, 10, 20, 30]\n"
     ]
    }
   ],
   "source": [
    "## Test list:\n",
    "test = [30,0,20,3,2,2,2,2,20,1,2,3,4,5,5,5,6,7,7,7,8,9,10]\n",
    "set_test = set(test)\n",
    "print(set_test)\n",
    "\n",
    "#using loop\n",
    "distinct_numbers=[]\n",
    "for x in test:\n",
    "    if x not in distinct_numbers:\n",
    "        distinct_numbers.append(x)\n",
    "print(sorted(distinct_numbers))\n",
    "        "
   ]
  },
  {
   "cell_type": "markdown",
   "metadata": {},
   "source": [
    "### Task 3.\n",
    "\n",
    "Please write a program that checks whether two given words are anagrams. Two words are anagrams if they contain the same letters. For example, \"silent\" and \"listen\" are anagrams, and \"keen\" and \"knee\" are also anagrams.\n",
    "\n",
    "Hint: First, we can use the <code>list()</code> function to split a word (a string) into a list of letters. Then, use the <code>.sort()</code> method to sort the list."
   ]
  },
  {
   "cell_type": "code",
   "execution_count": 99,
   "metadata": {},
   "outputs": [
    {
     "name": "stdout",
     "output_type": "stream",
     "text": [
      "not anagram\n"
     ]
    }
   ],
   "source": [
    "word1 =\"ytrewqqqqb\"\n",
    "word2 =\"qwertyqqQ\"\n",
    "\n",
    "if sorted(word1.lower()) == sorted(word2.lower()):\n",
    "    print(\"anagram\")\n",
    "else:\n",
    "    print(\"not anagram\")\n",
    "\n"
   ]
  },
  {
   "cell_type": "code",
   "execution_count": null,
   "metadata": {},
   "outputs": [],
   "source": []
  }
 ],
 "metadata": {
  "kernelspec": {
   "display_name": "Python 3 (ipykernel)",
   "language": "python",
   "name": "python3"
  },
  "language_info": {
   "codemirror_mode": {
    "name": "ipython",
    "version": 3
   },
   "file_extension": ".py",
   "mimetype": "text/x-python",
   "name": "python",
   "nbconvert_exporter": "python",
   "pygments_lexer": "ipython3",
   "version": "3.12.7"
  }
 },
 "nbformat": 4,
 "nbformat_minor": 4
}
