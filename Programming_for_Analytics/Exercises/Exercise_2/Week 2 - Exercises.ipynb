{
 "cells": [
  {
   "cell_type": "markdown",
   "metadata": {},
   "source": [
    "# <code>if-elif-else</code> structure"
   ]
  },
  {
   "cell_type": "markdown",
   "metadata": {},
   "source": [
    "### Task 1.\n",
    "\n",
    "The employees of a company are rated at the end of each year for possible salary raise. The rating that could be awarded to an employee is 0.0 (unacceptable), 0.4 (acceptable), or 0.6 (exceptional). No other values are to be used for the rating. The amount of an employee's salary raise is 3000.00 euro multiplied by his or her rating.\n",
    "\n",
    "Please write a program that takes a rating from the user and indicates whether the corresponding performance is unacceptable, acceptable or exceptional. The amount of the employee's salary raise should also be returned. Your program should display an appropriate error message if an invalid rating is entered."
   ]
  },
  {
   "cell_type": "code",
   "execution_count": 1,
   "metadata": {},
   "outputs": [
    {
     "name": "stdin",
     "output_type": "stream",
     "text": [
      "0.0, 0.4,0.6: 1\n"
     ]
    },
    {
     "name": "stdout",
     "output_type": "stream",
     "text": [
      "invalid\n"
     ]
    }
   ],
   "source": [
    "x = float(input(\"0.0, 0.4,0.6:\"))\n",
    "if x == 0.0:\n",
    "    print(\"unacceptable raise is:\", 3000 * x)\n",
    "elif  x == 0.4:\n",
    "    print(\"acceptable raise is:\", 3000 * x)\n",
    "elif  x == 0.6:\n",
    "    print(\"exceptional raise is:\", 3000 * x)\n",
    "else:\n",
    "    print(\"invalid\")"
   ]
  },
  {
   "cell_type": "markdown",
   "metadata": {},
   "source": [
    "### Task 2.\n",
    "\n",
    "Please create a program that takes a letter of the English alphabet from the user. If the user enters a, e, i, o or u then your program should display a message indicating that the entered letter is a vowel. If the user enters y then your program should display a message indicating that sometimes y is a vowel, and sometimes y is a consonant. Otherwise your program should display a message indicating that the letter is a consonant. Note that your program should also work for capital letters."
   ]
  },
  {
   "cell_type": "code",
   "execution_count": 2,
   "metadata": {},
   "outputs": [
    {
     "name": "stdin",
     "output_type": "stream",
     "text": [
      "enter one letter: 1\n"
     ]
    },
    {
     "name": "stdout",
     "output_type": "stream",
     "text": [
      "not one letter or not in alphabet\n"
     ]
    }
   ],
   "source": [
    "x = input(\"enter one letter:\").lower()\n",
    "if len(x) != 1 or not x.isalpha():\n",
    "    print(\"not one letter or not in alphabet\")\n",
    "elif x in \"aeiou\":\n",
    "    print(\"letter is a vowel\")\n",
    "elif x == \"y\":\n",
    "    print(\"sometimes y is a vowel, and sometimes y is a consonant.\")\n",
    "else:\n",
    "    print(\"letter is a consonant\")\n"
   ]
  },
  {
   "cell_type": "markdown",
   "metadata": {},
   "source": [
    "### Task 3.\n",
    "\n",
    "The length of a month varies from 28 to 31 days. In this exercise you will create a program that takes the name of a month from the user as a string and returns the number of days in that month. Display '28 or 29 days' for February so that leap years are addressed. If the input month is not valid, your program should return a warning message."
   ]
  },
  {
   "cell_type": "code",
   "execution_count": 3,
   "metadata": {},
   "outputs": [
    {
     "name": "stdin",
     "output_type": "stream",
     "text": [
      "enter month:  1\n"
     ]
    },
    {
     "name": "stdout",
     "output_type": "stream",
     "text": [
      "invalid\n"
     ]
    }
   ],
   "source": [
    "x = input(\"enter month: \").lower()\n",
    "month_dict = {\n",
    "        \"january\": 31,\n",
    "        \"february\": \"28 or 29 days\",\n",
    "        \"march\": 31,\n",
    "        \"april\": 30,\n",
    "        \"may\": 31,\n",
    "        \"june\": 30,\n",
    "        \"july\": 31,\n",
    "        \"august\": 31,\n",
    "        \"september\": 30,\n",
    "        \"october\": 31,\n",
    "        \"november\": 30,\n",
    "        \"december\": 31\n",
    "    }\n",
    "if x in month_dict:\n",
    "    print(month_dict[x])\n",
    "else:\n",
    "    print(\"invalid\")"
   ]
  },
  {
   "cell_type": "markdown",
   "metadata": {},
   "source": [
    "### Task 4.\n",
    "\n",
    "Body mass index (BMI) is a measure of health based on weight. It can be calculated by taking a person's weight in kilograms and dividing it by the square of the person's height in meters. The interpretation of BMI for people of 18 years and older is as follows:\n",
    "\n",
    "        BMI below 18.5:                                 Underweight\n",
    "        BMI between 18.5 and 24.9 (both inclusive):     Normal\n",
    "        BMI between 25.0 and 29.9 (both inclusive):     Overweight\n",
    "        BMI of 30.0 and above:                          Obese\n",
    "        \n",
    "Please write a program that displays the BMI and the corresponding interpretation for the weight and height specified by the users."
   ]
  },
  {
   "cell_type": "code",
   "execution_count": 4,
   "metadata": {},
   "outputs": [
    {
     "name": "stdin",
     "output_type": "stream",
     "text": [
      "weight in kilos: 1\n",
      "height in meters:  1\n"
     ]
    },
    {
     "name": "stdout",
     "output_type": "stream",
     "text": [
      "Underweight your bmi is 1.0\n"
     ]
    }
   ],
   "source": [
    "w = float(input(\"weight in kilos:\"))\n",
    "h = float(input(\"height in meters: \"))\n",
    "bmi= w/(h**2)\n",
    "if bmi<18.5:\n",
    "    print(f\"Underweight your bmi is {bmi}\")\n",
    "elif bmi<25.5:\n",
    "     print(f\"Normal your bmi is {bmi}\")\n",
    "elif bmi<30:\n",
    "     print(f\"Overweight your bmi is {bmi}\")\n",
    "else:\n",
    "    print(f\"Obese your bmi is {bmi}\")"
   ]
  },
  {
   "cell_type": "markdown",
   "metadata": {},
   "source": [
    "# <code>while</code> loop"
   ]
  },
  {
   "cell_type": "markdown",
   "metadata": {},
   "source": [
    "### Task 1.\n",
    "\n",
    "\n",
    "Please write a program that converts from miles to kilometers for 1 to 100 miles. Your program should display something like the following (note that 1 mile is 1.609 kilometers):\n",
    "\n",
    "        1 miles is equivalent to 1.609 kilometers.\n",
    "        2 miles is equivalent to 3.218 kilometers.\n",
    "        3 miles is equivalent to 4.827 kilometers.\n",
    "        ...\n",
    "        98 miles is equivalent to 157.682 kilometers.\n",
    "        99 miles is equivalent to 159.291 kilometers.\n",
    "        100 miles is equivalent to 160.9 kilometers."
   ]
  },
  {
   "cell_type": "code",
   "execution_count": 6,
   "metadata": {},
   "outputs": [
    {
     "name": "stdout",
     "output_type": "stream",
     "text": [
      "1 miles is equivalent to 1.609 kilometers.\n",
      "2 miles is equivalent to 3.218 kilometers.\n",
      "3 miles is equivalent to 4.827 kilometers.\n",
      "4 miles is equivalent to 6.436 kilometers.\n",
      "5 miles is equivalent to 8.045 kilometers.\n",
      "6 miles is equivalent to 9.654 kilometers.\n",
      "7 miles is equivalent to 11.263 kilometers.\n",
      "8 miles is equivalent to 12.872 kilometers.\n",
      "9 miles is equivalent to 14.481 kilometers.\n",
      "10 miles is equivalent to 16.09 kilometers.\n",
      "11 miles is equivalent to 17.699 kilometers.\n",
      "12 miles is equivalent to 19.308 kilometers.\n",
      "13 miles is equivalent to 20.917 kilometers.\n",
      "14 miles is equivalent to 22.526 kilometers.\n",
      "15 miles is equivalent to 24.135 kilometers.\n",
      "16 miles is equivalent to 25.744 kilometers.\n",
      "17 miles is equivalent to 27.353 kilometers.\n",
      "18 miles is equivalent to 28.962 kilometers.\n",
      "19 miles is equivalent to 30.571 kilometers.\n",
      "20 miles is equivalent to 32.18 kilometers.\n",
      "21 miles is equivalent to 33.789 kilometers.\n",
      "22 miles is equivalent to 35.398 kilometers.\n",
      "23 miles is equivalent to 37.007 kilometers.\n",
      "24 miles is equivalent to 38.616 kilometers.\n",
      "25 miles is equivalent to 40.225 kilometers.\n",
      "26 miles is equivalent to 41.834 kilometers.\n",
      "27 miles is equivalent to 43.443 kilometers.\n",
      "28 miles is equivalent to 45.052 kilometers.\n",
      "29 miles is equivalent to 46.661 kilometers.\n",
      "30 miles is equivalent to 48.27 kilometers.\n",
      "31 miles is equivalent to 49.879 kilometers.\n",
      "32 miles is equivalent to 51.488 kilometers.\n",
      "33 miles is equivalent to 53.097 kilometers.\n",
      "34 miles is equivalent to 54.706 kilometers.\n",
      "35 miles is equivalent to 56.315 kilometers.\n",
      "36 miles is equivalent to 57.924 kilometers.\n",
      "37 miles is equivalent to 59.533 kilometers.\n",
      "38 miles is equivalent to 61.142 kilometers.\n",
      "39 miles is equivalent to 62.751 kilometers.\n",
      "40 miles is equivalent to 64.36 kilometers.\n",
      "41 miles is equivalent to 65.969 kilometers.\n",
      "42 miles is equivalent to 67.578 kilometers.\n",
      "43 miles is equivalent to 69.187 kilometers.\n",
      "44 miles is equivalent to 70.796 kilometers.\n",
      "45 miles is equivalent to 72.405 kilometers.\n",
      "46 miles is equivalent to 74.014 kilometers.\n",
      "47 miles is equivalent to 75.623 kilometers.\n",
      "48 miles is equivalent to 77.232 kilometers.\n",
      "49 miles is equivalent to 78.841 kilometers.\n",
      "50 miles is equivalent to 80.45 kilometers.\n",
      "51 miles is equivalent to 82.059 kilometers.\n",
      "52 miles is equivalent to 83.668 kilometers.\n",
      "53 miles is equivalent to 85.277 kilometers.\n",
      "54 miles is equivalent to 86.886 kilometers.\n",
      "55 miles is equivalent to 88.495 kilometers.\n",
      "56 miles is equivalent to 90.104 kilometers.\n",
      "57 miles is equivalent to 91.713 kilometers.\n",
      "58 miles is equivalent to 93.322 kilometers.\n",
      "59 miles is equivalent to 94.931 kilometers.\n",
      "60 miles is equivalent to 96.54 kilometers.\n",
      "61 miles is equivalent to 98.149 kilometers.\n",
      "62 miles is equivalent to 99.758 kilometers.\n",
      "63 miles is equivalent to 101.367 kilometers.\n",
      "64 miles is equivalent to 102.976 kilometers.\n",
      "65 miles is equivalent to 104.585 kilometers.\n",
      "66 miles is equivalent to 106.194 kilometers.\n",
      "67 miles is equivalent to 107.803 kilometers.\n",
      "68 miles is equivalent to 109.412 kilometers.\n",
      "69 miles is equivalent to 111.021 kilometers.\n",
      "70 miles is equivalent to 112.63 kilometers.\n",
      "71 miles is equivalent to 114.239 kilometers.\n",
      "72 miles is equivalent to 115.848 kilometers.\n",
      "73 miles is equivalent to 117.457 kilometers.\n",
      "74 miles is equivalent to 119.066 kilometers.\n",
      "75 miles is equivalent to 120.675 kilometers.\n",
      "76 miles is equivalent to 122.284 kilometers.\n",
      "77 miles is equivalent to 123.893 kilometers.\n",
      "78 miles is equivalent to 125.502 kilometers.\n",
      "79 miles is equivalent to 127.111 kilometers.\n",
      "80 miles is equivalent to 128.72 kilometers.\n",
      "81 miles is equivalent to 130.329 kilometers.\n",
      "82 miles is equivalent to 131.938 kilometers.\n",
      "83 miles is equivalent to 133.547 kilometers.\n",
      "84 miles is equivalent to 135.156 kilometers.\n",
      "85 miles is equivalent to 136.765 kilometers.\n",
      "86 miles is equivalent to 138.374 kilometers.\n",
      "87 miles is equivalent to 139.983 kilometers.\n",
      "88 miles is equivalent to 141.592 kilometers.\n",
      "89 miles is equivalent to 143.201 kilometers.\n",
      "90 miles is equivalent to 144.81 kilometers.\n",
      "91 miles is equivalent to 146.419 kilometers.\n",
      "92 miles is equivalent to 148.028 kilometers.\n",
      "93 miles is equivalent to 149.637 kilometers.\n",
      "94 miles is equivalent to 151.246 kilometers.\n",
      "95 miles is equivalent to 152.855 kilometers.\n",
      "96 miles is equivalent to 154.464 kilometers.\n",
      "97 miles is equivalent to 156.073 kilometers.\n",
      "98 miles is equivalent to 157.682 kilometers.\n",
      "99 miles is equivalent to 159.291 kilometers.\n",
      "100 miles is equivalent to 160.9 kilometers.\n"
     ]
    }
   ],
   "source": [
    "x=1\n",
    "while x <=100:\n",
    "    print(f\"{x} miles is equivalent to {round(x * 1.609,3)} kilometers.\")\n",
    "    x+=1"
   ]
  },
  {
   "cell_type": "markdown",
   "metadata": {},
   "source": [
    "### Task 2.\n",
    "\n",
    "Please write a program using a while loop, which finds the greatest common divisor of two positive integers. The greatest common divisor, x, of two positive integers, a and b, is the greatest integer such that the remainder when dividing a and b by x is 0."
   ]
  },
  {
   "cell_type": "code",
   "execution_count": 9,
   "metadata": {},
   "outputs": [
    {
     "name": "stdin",
     "output_type": "stream",
     "text": [
      "Int 1: 99\n",
      "Int 2: 999\n"
     ]
    },
    {
     "name": "stdout",
     "output_type": "stream",
     "text": [
      "The greatest common divisor 9\n"
     ]
    }
   ],
   "source": [
    "a = int(input(\"Int 1:\"))\n",
    "b = int(input(\"Int 2:\"))\n",
    "\n",
    "x=1\n",
    "\n",
    "while x <= min(a,b):\n",
    "    if a % x == 0 and b % x == 0:\n",
    "        ans = x\n",
    "    x+=1\n",
    "print(f\"The greatest common divisor {ans}\")"
   ]
  },
  {
   "cell_type": "code",
   "execution_count": null,
   "metadata": {},
   "outputs": [],
   "source": []
  }
 ],
 "metadata": {
  "kernelspec": {
   "display_name": "Python 3 (ipykernel)",
   "language": "python",
   "name": "python3"
  },
  "language_info": {
   "codemirror_mode": {
    "name": "ipython",
    "version": 3
   },
   "file_extension": ".py",
   "mimetype": "text/x-python",
   "name": "python",
   "nbconvert_exporter": "python",
   "pygments_lexer": "ipython3",
   "version": "3.12.7"
  }
 },
 "nbformat": 4,
 "nbformat_minor": 4
}
