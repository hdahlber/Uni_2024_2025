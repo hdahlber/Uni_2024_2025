{
 "cells": [
  {
   "cell_type": "markdown",
   "metadata": {},
   "source": [
    "# <code>if-elif-else</code> structure"
   ]
  },
  {
   "cell_type": "markdown",
   "metadata": {},
   "source": [
    "### Task 1.\n",
    "\n",
    "The employees of a company are rated at the end of each year for possible salary raise. The rating that could be awarded to an employee is 0.0 (unacceptable), 0.4 (acceptable), or 0.6 (exceptional). No other values are to be used for the rating. The amount of an employee's salary raise is 3000.00 euro multiplied by his or her rating.\n",
    "\n",
    "Please write a program that takes a rating from the user and indicates whether the corresponding performance is unacceptable, acceptable or exceptional. The amount of the employee's salary raise should also be returned. Your program should display an appropriate error message if an invalid rating is entered."
   ]
  },
  {
   "cell_type": "code",
   "execution_count": null,
   "metadata": {},
   "outputs": [],
   "source": []
  },
  {
   "cell_type": "markdown",
   "metadata": {},
   "source": [
    "### Task 2.\n",
    "\n",
    "Please create a program that takes a letter of the English alphabet from the user. If the user enters a, e, i, o or u then your program should display a message indicating that the entered letter is a vowel. If the user enters y then your program should display a message indicating that sometimes y is a vowel, and sometimes y is a consonant. Otherwise your program should display a message indicating that the letter is a consonant. Note that your program should also work for capital letters."
   ]
  },
  {
   "cell_type": "code",
   "execution_count": null,
   "metadata": {},
   "outputs": [],
   "source": []
  },
  {
   "cell_type": "markdown",
   "metadata": {},
   "source": [
    "### Task 3.\n",
    "\n",
    "The length of a month varies from 28 to 31 days. In this exercise you will create a program that takes the name of a month from the user as a string and returns the number of days in that month. Display '28 or 29 days' for February so that leap years are addressed. If the input month is not valid, your program should return a warning message."
   ]
  },
  {
   "cell_type": "code",
   "execution_count": null,
   "metadata": {},
   "outputs": [],
   "source": []
  },
  {
   "cell_type": "markdown",
   "metadata": {},
   "source": [
    "### Task 4.\n",
    "\n",
    "Body mass index (BMI) is a measure of health based on weight. It can be calculated by taking a person's weight in kilograms and dividing it by the square of the person's height in meters. The interpretation of BMI for people of 18 years and older is as follows:\n",
    "\n",
    "        BMI below 18.5:                                 Underweight\n",
    "        BMI between 18.5 and 24.9 (both inclusive):     Normal\n",
    "        BMI between 25.0 and 29.9 (both inclusive):     Overweight\n",
    "        BMI of 30.0 and above:                          Obese\n",
    "        \n",
    "Please write a program that displays the BMI and the corresponding interpretation for the weight and height specified by the users."
   ]
  },
  {
   "cell_type": "code",
   "execution_count": null,
   "metadata": {},
   "outputs": [],
   "source": []
  },
  {
   "cell_type": "markdown",
   "metadata": {},
   "source": [
    "# <code>while</code> loop"
   ]
  },
  {
   "cell_type": "markdown",
   "metadata": {},
   "source": [
    "### Task 1.\n",
    "\n",
    "\n",
    "Please write a program that converts from miles to kilometers for 1 to 100 miles. Your program should display something like the following (note that 1 mile is 1.609 kilometers):\n",
    "\n",
    "        1 miles is equivalent to 1.609 kilometers.\n",
    "        2 miles is equivalent to 3.218 kilometers.\n",
    "        3 miles is equivalent to 4.827 kilometers.\n",
    "        ...\n",
    "        98 miles is equivalent to 157.682 kilometers.\n",
    "        99 miles is equivalent to 159.291 kilometers.\n",
    "        100 miles is equivalent to 160.9 kilometers."
   ]
  },
  {
   "cell_type": "code",
   "execution_count": null,
   "metadata": {},
   "outputs": [],
   "source": []
  },
  {
   "cell_type": "markdown",
   "metadata": {},
   "source": [
    "### Task 2.\n",
    "\n",
    "Please write a program using a while loop, which finds the greatest common divisor of two positive integers. The greatest common divisor, x, of two positive integers, a and b, is the greatest integer such that the remainder when dividing a and b by x is 0."
   ]
  },
  {
   "cell_type": "code",
   "execution_count": null,
   "metadata": {},
   "outputs": [],
   "source": []
  }
 ],
 "metadata": {
  "kernelspec": {
   "display_name": "Python 3 (ipykernel)",
   "language": "python",
   "name": "python3"
  },
  "language_info": {
   "codemirror_mode": {
    "name": "ipython",
    "version": 3
   },
   "file_extension": ".py",
   "mimetype": "text/x-python",
   "name": "python",
   "nbconvert_exporter": "python",
   "pygments_lexer": "ipython3",
   "version": "3.9.13"
  }
 },
 "nbformat": 4,
 "nbformat_minor": 2
}
